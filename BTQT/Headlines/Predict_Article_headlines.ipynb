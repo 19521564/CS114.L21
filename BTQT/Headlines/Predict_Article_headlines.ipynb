{
  "nbformat": 4,
  "nbformat_minor": 0,
  "metadata": {
    "colab": {
      "name": "Copy of Predict_Article_headlines.ipynb",
      "provenance": [],
      "collapsed_sections": []
    },
    "kernelspec": {
      "display_name": "Python 3",
      "name": "python3"
    },
    "language_info": {
      "name": "python"
    }
  },
  "cells": [
    {
      "cell_type": "code",
      "metadata": {
        "id": "Vl-fgdsftJ2a"
      },
      "source": [
        "import numpy as np\n",
        "import pandas as pd"
      ],
      "execution_count": null,
      "outputs": []
    },
    {
      "cell_type": "markdown",
      "metadata": {
        "id": "pO_FZX6SzCiZ"
      },
      "source": [
        "# **1.File train**"
      ]
    },
    {
      "cell_type": "code",
      "metadata": {
        "colab": {
          "base_uri": "https://localhost:8080/"
        },
        "id": "-gcUmnef4PWM",
        "outputId": "bcf9fd72-6369-4a5d-a356-6b9934fc95bf"
      },
      "source": [
        "#Vì file quá lớn nên nhóm em up lên drive rồi upload lên đây, link drive: https://drive.google.com/file/d/1LPzdw8dvC6m5YgTIy9M3lS52LyvvG7VI/view?usp=sharing\n",
        "!gdown --id 1LPzdw8dvC6m5YgTIy9M3lS52LyvvG7VI\n"
      ],
      "execution_count": null,
      "outputs": [
        {
          "output_type": "stream",
          "text": [
            "Downloading...\n",
            "From: https://drive.google.com/uc?id=1LPzdw8dvC6m5YgTIy9M3lS52LyvvG7VI\n",
            "To: /content/ALL.json\n",
            "173MB [00:02, 81.2MB/s]\n"
          ],
          "name": "stdout"
        }
      ]
    },
    {
      "cell_type": "code",
      "metadata": {
        "id": "lqcQSo8-kwkR",
        "colab": {
          "base_uri": "https://localhost:8080/"
        },
        "outputId": "9eeeb922-464f-4036-93c7-7bfed256c08d"
      },
      "source": [
        "#Cell này dùng để đưa data về dạng csv và bỏ qua một số hàng bị lỗi khi crawl (không đáng kể)\n",
        "#Các hàng bị lỗi được in \n",
        "f = open('ALL.json','r')\n",
        "lines = f.readlines()\n",
        "f1 = open('train.txt','w')\n",
        "for line in lines:\n",
        "  try:\n",
        "    a = line\n",
        "    if a[-1] == '\\n':\n",
        "      if a[-3] != '0' and a[-3] != '1':\n",
        "        print(a)\n",
        "      else:\n",
        "        f1.write(a[18:a.find('\", \"headline\": \"')] + '@_@' + a[a.find('\", \"headline\": \"') + 16:-22] + '@_@' + a[-3] + '\\n')\n",
        "    else:\n",
        "      if a[-3] != '0' and a[-3] != '1':\n",
        "        print(a)\n",
        "      else:\n",
        "        f1.write(a[18:a.find('\", \"headline\": \"')] + '@_@' + a[a.find('\", \"headline\": \"') + 16:-22] + '@_@' + a[-2] + '\\n')\n",
        "  except:\n",
        "    print(a)\n",
        "f.close()\n",
        "f1.close()"
      ],
      "execution_count": null,
      "outputs": [
        {
          "output_type": "stream",
          "text": [
            "{\"article_link\": \"https://www.thetimes.co.uk/article/adu-lts-to-get-ri-gh-t-to-choose-gender-plwqq6rw8\", \"headline\": \"adu\n",
            "\n",
            "\n",
            "\n",
            "lts to get \n",
            "\n",
            "ri\n",
            "\n",
            "gh\n",
            "\n",
            "{\"article_link\": \"https://www.thetimes.co.uk/article/carroll-service-w6b09kc69\", \"headline\": \"carroll\n",
            "\n",
            "{\"article_link\": \"https://www.thetimes.co.uk/article/key-br-it-is-h-role-in-iraqi-vi-ct-o-ry-wbclc95x2\", \"headline\": \"key br\n",
            "\n",
            "it\n",
            "\n",
            "is\n",
            "\n",
            "h  role in iraqi vi\n",
            "\n",
            "ct\n",
            "\n",
            "o\n",
            "\n",
            "{\"article_link\": \"https://www.thetimes.co.uk/article/wives-at-war-over-dis-graced-dan-czuk-vkm8zdscc\", \"headline\": \"wives at war over dis\n",
            "\n",
            "graced dan\n",
            "\n",
            "{\"article_link\": \"https://www.thetimes.co.uk/article/ya-rd-ap-ol-og-ises-to-whistlebl-ow-er-s-5rrgpqx99\", \"headline\": \"ya\n",
            "\n",
            "rd ap\n",
            "\n",
            "ol\n",
            "\n",
            "og\n",
            "\n",
            "ises to whistlebl\n",
            "\n",
            "ow\n",
            "\n",
            "er\n",
            "\n",
            "{\"article_link\": \"https://www.thetimes.co.uk/article/mi5-tried-to-recruit-terror-suspect-before-his-flight-to-syria-sh0xjpz6v\", \"headline\": \"mi5 tried  to recruit \n",
            "\n",
            "{\"article_link\": \"https://www.thetimes.co.uk/article/mps-back-jerusalem-as-england-anthem-m5zf7nwg2\", \"headline\": \"mps back jerusalem  as england\n",
            "\n",
            "{\"article_link\": \"https://www.thetimes.co.uk/article/somehow-ive-worked-my-way-into-peoples-lives-without-even-trying-3gf093kbg\", \"headline\": \"‘somehow i’ve worked my way into \n",
            "\n",
            "{\"article_link\": \"https://www.thetimes.co.uk/article/broad-wraps-it-all-up-for-happy-wanderers-l8gw0vsv8\", \"headline\": \"broad wraps it all up\n",
            "\n",
            "{\"article_link\": \"https://www.theguardian.com/music/2021/jun/11/khasi-cymru-collective-sai-thain-ki-sur-the-weaving-of-voices-review\", \"headline\": \"khasi-cymru collective: sai-thaiñ ki sur (the weaving of voices\n",
            "\n",
            "{\"article_link\": \"https://www.nytimes.com/2020/02/19/magazine/should-i-speak-up-about-a-workers-confederate-battle-flag.html\", \"headline\": \"should i speak up \n",
            "\n",
            "{\"article_link\": \"https://www.nytimes.com/2020/01/28/magazine/should-i-pretend-to-love-my-stepchildren.html\", \"headline\": \"should i pretend to \n",
            "\n",
            "{\"article_link\": \"https://www.nytimes.com/2020/01/14/magazine/can-we-stay-friends-with-someone-who-betrayed-his-pregnant-partner.html\", \"headline\": \"can we stay friends \n",
            "\n",
            "{\"article_link\": \"https://www.nytimes.com/learning/general/onthisday/big/0726.html\", \"headline\": \"congress adjourns at 3:50 a.m., far short of gop economy goal; forrestal is new\n",
            "\n",
            "{\"article_link\": \"https://www.nytimes.com/learning/general/onthisday/big/0728.html\", \"headline\": \"austria formally declares war on servia; russia threatens, already moving\n",
            "\n",
            "{\"article_link\": \"https://www.nytimes.com/learning/general/onthisday/big/0801.html\", \"headline\": \"\n",
            "\n",
            "100,000 hail hitler; u.s. athletes avoid nazi salute to him \n",
            "\n",
            "{\"article_link\": \"https://www.nytimes.com/learning/general/onthisday/big/0803.html\", \"headline\": \"\n",
            "\n",
            "nautilus sails under the pole and 1,830 miles of arctic icecap in pacific-to-atlantic \n",
            "\n",
            "passage\n",
            "\n",
            "{\"article_link\": \"https://www.nytimes.com/learning/general/onthisday/big/0804.html\", \"headline\": \"\n",
            "\n",
            "england declares war on germany \n",
            "\n",
            "{\"article_link\": \"https://www.nytimes.com/learning/general/onthisday/big/0805.html\", \"headline\": \"\n",
            "\n",
            "test ban treaty signed in moscow; leaders rejoice \n",
            "\n",
            "{\"article_link\": \"https://www.nytimes.com/learning/general/onthisday/big/0807.html\", \"headline\": \"\n",
            "\n",
            "congress backs president on southeast asia moves; khanh sets state of siege\n",
            "\n",
            "{\"article_link\": \"https://www.nytimes.com/learning/general/onthisday/big/0809.html\", \"headline\": \"\n",
            "\n",
            "atom bomb loosed on nagasaki\n",
            "\n",
            "{\"article_link\": \"https://www.nytimes.com/learning/general/onthisday/big/0812.html\", \"headline\": \"war suspended, peace assured\n",
            "\n",
            "{\"article_link\": \"https://www.nytimes.com/learning/general/onthisday/big/0813.html\", \"headline\": \"east german troops seal border with west berlin to block refugee escape\n",
            "\n",
            "{\"article_link\": \"https://www.nytimes.com/learning/general/onthisday/big/0814.html\", \"headline\": \"japan surrenders, end of war!\n",
            "\n",
            "{\"article_link\": \"https://www.nytimes.com/learning/general/onthisday/big/0817.html\", \"headline\": \"tired rock fans begin exodus\n",
            "\n",
            "{\"article_link\": \"https://www.nytimes.com/learning/general/onthisday/big/0821.html\", \"headline\": \"hawaii becomes the 50th state; new flag\n",
            "\n",
            "{\"article_link\": \"https://www.nytimes.com/learning/general/onthisday/big/0819.html\", \"headline\": \"hitler endorsed by 9 to 1 in poll on his\n",
            "\n",
            "{\"article_link\": \"https://www.nytimes.com/learning/general/onthisday/big/0820.html\", \"headline\": \"czechoslovakia invaded by russians and\n",
            "\n",
            "{\"article_link\": \"https://www.nytimes.com/learning/general/onthisday/big/0823.html\", \"headline\": \"sacco and vanzetti put to death early this\n",
            "\n",
            "{\"article_link\": \"https://www.nytimes.com/learning/general/onthisday/big/0824.html\", \"headline\": \"hurricane rips through florida and heads\n",
            "\n",
            "into gulf \n",
            "\n",
            "{\"article_link\": \"https://www.nytimes.com/learning/general/onthisday/big/0825.html\", \"headline\": \"allied forces help french to rid capital of\n",
            "\n",
            "nazis \n",
            "\n",
            "{\"article_link\": \"https://www.nytimes.com/learning/general/onthisday/big/0818.html\", \"headline\": \"mississippi gives meredith degree \n",
            "\n",
            "{\"article_link\": \"https://www.nytimes.com/learning/general/onthisday/big/0901.html\", \"headline\": \"german army attacks poland; cities\n",
            "\n",
            "bombed, port blockaded; danzig is accepted\n",
            "\n",
            "{\"article_link\": \"https://www.nytimes.com/learning/general/onthisday/big/0902.html\", \"headline\": \"japan surrenders to allies, signs rigid\n",
            "\n",
            "terms on warship; truman sets today as\n",
            "\n",
            "v-j day \n",
            "\n",
            "{\"article_link\": \"https://www.nytimes.com/learning/general/onthisday/big/0903.html\", \"headline\": \"viking 2 lander settles on mars and sends\n",
            "\n",
            "{\"article_link\": \"https://www.nytimes.com/learning/general/onthisday/big/0904.html\", \"headline\": \"arkansas troops bar negro pupils;\n",
            "\n",
            "governor defiant\n",
            "\n",
            "{\"article_link\": \"https://www.nytimes.com/learning/general/onthisday/big/0905.html\", \"headline\": \"9 israelis on olympic team killed with 4\n",
            "\n",
            "arab captors as police fight band that\n",
            "\n",
            "{\"article_link\": \"https://www.nytimes.com/learning/general/onthisday/big/0907.html\", \"headline\": \"german planes raid london all day; british bomb berlin, starting fires; carol is in\n",
            "\n",
            "{\"article_link\": \"https://www.nytimes.com/learning/general/onthisday/big/0909.html\", \"headline\": \"mao tse-tung dies in peking at 82; leader of red china revolution; choice of successor\n",
            "\n",
            "is uncertain\n",
            "\n",
            "{\"article_link\": \"https://www.nytimes.com/learning/general/onthisday/big/0912.html\", \"headline\": \"young black leader dies in detention in\n",
            "\n",
            "{\"article_link\": \"https://www.nytimes.com/learning/general/onthisday/big/0914.html\", \"headline\": \"soviet rocket hits moon after 35 hours;\n",
            "\n",
            "arrival is calculated within 84 seconds;\n",
            "\n",
            "{\"article_link\": \"https://www.nytimes.com/learning/general/onthisday/big/0915.html\", \"headline\": \"birmingham bomb kills 4 negro girls in church; riots flare; 2 boys slain\n",
            "\n",
            "{\"article_link\": \"https://www.nytimes.com/learning/general/onthisday/big/0916.html\", \"headline\": \"ford offers amnesty program requiring 2 years public work; defends his pardon of\n",
            "\n",
            "{\"article_link\": \"https://www.nytimes.com/learning/general/onthisday/big/0101.html\", \"headline\": \"batista and regime flee cuba;\n",
            "\n",
            "castro moving to take power;\n",
            "\n",
            "{\"article_link\": \"https://www.nytimes.com/learning/general/onthisday/big/0802.html\", \"headline\": \"\n",
            "\n",
            "president harding dies suddenly; stroke of apoplexy at 7:30 p.m.; calvin \n",
            "\n",
            "coolidge is president \n",
            "\n",
            "{\"article_link\": \"https://www.nytimes.com/learning/general/onthisday/big/0906.html\", \"headline\": \"president shot at buffalo fair\n",
            "\n",
            "{\"article_link\": \"https://www.nytimes.com/learning/general/onthisday/big/0910.html\", \"headline\": \"troops use machine gun on boston mob; 5,000 guarding city as riots continue; city\n",
            "\n",
            "acclaims parade of fighting first\n",
            "\n",
            "{\"article_link\": \"https://www.nytimes.com/learning/general/onthisday/big/0926.html\", \"headline\": \"nixon and kennedy clash in tv debate on\n",
            "\n",
            "{\"article_link\": \"https://www.nytimes.com/interactive/2017/world/australia/news-expansion.html\", \"headline\": \"our australian expansion\n",
            "\n",
            "{\"article_link\": \"https://www.nytimes.com/interactive/2016/08/09/t-magazine/culture/09tattoos.html\", \"headline\": \"six artists who draw gorgeous botanical tattoos\n",
            "\n",
            "{\"article_link\": \"https://www.nytimes.com/interactive/2016/07/12/science/gmo-misconceptions.html\", \"headline\": \"how square watermelons\n",
            "\n",
            "get their shape, and other g.m.o.\n",
            "\n",
            "{\"article_link\": \"https://www.nytimes.com/interactive/2016/06/02/t-magazine/eight-straw-beach-bags.html\", \"headline\": \"eight straw bags for the beach (and beyond)\n",
            "\n",
            "{\"article_link\": \"https://www.nytimes.com/interactive/2016/02/09/us/politics/hillary-clinton-bernie-sanders-celebrities.html\", \"headline\": \"bernie sanders and hillary clinton, and famous faces who back them\n",
            "\n",
            "{\"article_link\": \"https://www.ft.com/video/41e9b2fd-d992-4214-8972-4dc2cd12d180\", \"headline\": \"can international markets outperform the us?\n",
            "\n",
            "{\"article_link\": \"https://www.ft.com/content/e6502708-86bf-11e8-96dd-fa565ec55929\", \"headline\": \"can neuroscience \n",
            "\n",
            "{\"article_link\": \"https://www.betootaadvocate.com/uncategorized/older-couple-at-wine-tasting-cant-wait-to-rip-this-pinot-a-new-one%e2%80%a8/\", \"headline\": \"older couple at wine tasting can’t wait to rip this pinot a new one\n",
            "\n",
            "{\"article_link\": \"https://babylonbee.com/news/zuckerberg-vows-to-keep-us-elections-safe-from-unapproved-opinions\", \"headline\": \"zuckerberg vows to keep us elections safe from unapproved opinions\", \"is_sarcastic\": 1}\n"
          ],
          "name": "stdout"
        }
      ]
    },
    {
      "cell_type": "code",
      "metadata": {
        "colab": {
          "base_uri": "https://localhost:8080/",
          "height": 473
        },
        "id": "VV7U9hpQqrDc",
        "outputId": "6e464058-d362-4e59-fa25-2ea01a9733d6"
      },
      "source": [
        "# Đọc file CSV\n",
        "data_train = pd.read_csv(\"train.txt\", delimiter='@_@', names=['article_link','headline',  'is_sarcastic'])\n",
        "#kiểm tra thông tin của file\n",
        "data_train"
      ],
      "execution_count": null,
      "outputs": [
        {
          "output_type": "stream",
          "text": [
            "/usr/local/lib/python3.7/dist-packages/ipykernel_launcher.py:2: ParserWarning: Falling back to the 'python' engine because the 'c' engine does not support regex separators (separators > 1 char and different from '\\s+' are interpreted as regex); you can avoid this warning by specifying engine='python'.\n",
            "  \n"
          ],
          "name": "stderr"
        },
        {
          "output_type": "execute_result",
          "data": {
            "text/html": [
              "<div>\n",
              "<style scoped>\n",
              "    .dataframe tbody tr th:only-of-type {\n",
              "        vertical-align: middle;\n",
              "    }\n",
              "\n",
              "    .dataframe tbody tr th {\n",
              "        vertical-align: top;\n",
              "    }\n",
              "\n",
              "    .dataframe thead th {\n",
              "        text-align: right;\n",
              "    }\n",
              "</style>\n",
              "<table border=\"1\" class=\"dataframe\">\n",
              "  <thead>\n",
              "    <tr style=\"text-align: right;\">\n",
              "      <th></th>\n",
              "      <th>article_link</th>\n",
              "      <th>headline</th>\n",
              "      <th>is_sarcastic</th>\n",
              "    </tr>\n",
              "  </thead>\n",
              "  <tbody>\n",
              "    <tr>\n",
              "      <th>0</th>\n",
              "      <td>https://www.thetimes.co.uk/article/aston-villa...</td>\n",
              "      <td>aston villa match postponed after covid-19 out...</td>\n",
              "      <td>0</td>\n",
              "    </tr>\n",
              "    <tr>\n",
              "      <th>1</th>\n",
              "      <td>https://www.thetimes.co.uk/article/antarctic-a...</td>\n",
              "      <td>antarctic architect hugh broughton wants warm ...</td>\n",
              "      <td>0</td>\n",
              "    </tr>\n",
              "    <tr>\n",
              "      <th>2</th>\n",
              "      <td>https://www.thetimes.co.uk/article/argentina-c...</td>\n",
              "      <td>argentina captain pablo matera sacked over rac...</td>\n",
              "      <td>0</td>\n",
              "    </tr>\n",
              "    <tr>\n",
              "      <th>3</th>\n",
              "      <td>https://www.thetimes.co.uk/article/amazon-pain...</td>\n",
              "      <td>amazon paintings reveal ice age civilisation</td>\n",
              "      <td>0</td>\n",
              "    </tr>\n",
              "    <tr>\n",
              "      <th>4</th>\n",
              "      <td>https://www.thetimes.co.uk/article/autumn-as-t...</td>\n",
              "      <td>autumn as told by a farmer and poet</td>\n",
              "      <td>0</td>\n",
              "    </tr>\n",
              "    <tr>\n",
              "      <th>...</th>\n",
              "      <td>...</td>\n",
              "      <td>...</td>\n",
              "      <td>...</td>\n",
              "    </tr>\n",
              "    <tr>\n",
              "      <th>842482</th>\n",
              "      <td>https://babylonbee.com/news/zuckerberg-begins-...</td>\n",
              "      <td>zuckerberg begins testimony by reminding senat...</td>\n",
              "      <td>1</td>\n",
              "    </tr>\n",
              "    <tr>\n",
              "      <th>842483</th>\n",
              "      <td>https://babylonbee.com/news/zuckerberg-emerges...</td>\n",
              "      <td>mark zuckerberg emerges from under man's bed t...</td>\n",
              "      <td>1</td>\n",
              "    </tr>\n",
              "    <tr>\n",
              "      <th>842484</th>\n",
              "      <td>https://babylonbee.com/news/zuckerberg-loses-c...</td>\n",
              "      <td>zuckerberg loses contact lens during senate he...</td>\n",
              "      <td>1</td>\n",
              "    </tr>\n",
              "    <tr>\n",
              "      <th>842485</th>\n",
              "      <td>https://babylonbee.com/news/zuckerberg-promise...</td>\n",
              "      <td>zuckerberg promises new dating service will re...</td>\n",
              "      <td>1</td>\n",
              "    </tr>\n",
              "    <tr>\n",
              "      <th>842486</th>\n",
              "      <td>https://babylonbee.com/news/zuckerberg-require...</td>\n",
              "      <td>zuckerberg requires house members to accept te...</td>\n",
              "      <td>1</td>\n",
              "    </tr>\n",
              "  </tbody>\n",
              "</table>\n",
              "<p>842487 rows × 3 columns</p>\n",
              "</div>"
            ],
            "text/plain": [
              "                                             article_link  ... is_sarcastic\n",
              "0       https://www.thetimes.co.uk/article/aston-villa...  ...            0\n",
              "1       https://www.thetimes.co.uk/article/antarctic-a...  ...            0\n",
              "2       https://www.thetimes.co.uk/article/argentina-c...  ...            0\n",
              "3       https://www.thetimes.co.uk/article/amazon-pain...  ...            0\n",
              "4       https://www.thetimes.co.uk/article/autumn-as-t...  ...            0\n",
              "...                                                   ...  ...          ...\n",
              "842482  https://babylonbee.com/news/zuckerberg-begins-...  ...            1\n",
              "842483  https://babylonbee.com/news/zuckerberg-emerges...  ...            1\n",
              "842484  https://babylonbee.com/news/zuckerberg-loses-c...  ...            1\n",
              "842485  https://babylonbee.com/news/zuckerberg-promise...  ...            1\n",
              "842486  https://babylonbee.com/news/zuckerberg-require...  ...            1\n",
              "\n",
              "[842487 rows x 3 columns]"
            ]
          },
          "metadata": {
            "tags": []
          },
          "execution_count": 4
        }
      ]
    },
    {
      "cell_type": "markdown",
      "metadata": {
        "id": "nkSRLYuKPcno"
      },
      "source": [
        "# **2.File test**\n",
        "*   Để quá trình train diễn ra nhanh chóng và thuận tiện, nhóm em đã hỏi ý và xin data nhóm bạn: Cao Đức trí (link github: https://github.com/hauphanlvc/CS114.L21AndCS114.L22.KHCL) để làm data test.\n",
        "*   Data test gồm:\n",
        "    \n",
        "    breitbart(0): 65996 headlines\n",
        "\n",
        "    newthump(1): 3805 headlines\n",
        "\n",
        "\n",
        "\n",
        "\n"
      ]
    },
    {
      "cell_type": "code",
      "metadata": {
        "colab": {
          "base_uri": "https://localhost:8080/"
        },
        "id": "prR_BZmU6ka4",
        "outputId": "35cf9114-795e-4fbb-a2cc-25523cd92c09"
      },
      "source": [
        "#link drive file tổng hợp 2 trang báo: https://drive.google.com/file/d/1jtl0JpkdVfH402cesMcchrCvmvZTiWzc/view?usp=sharing\n",
        "!gdown --id 1jtl0JpkdVfH402cesMcchrCvmvZTiWzc"
      ],
      "execution_count": null,
      "outputs": [
        {
          "output_type": "stream",
          "text": [
            "Downloading...\n",
            "From: https://drive.google.com/uc?id=1jtl0JpkdVfH402cesMcchrCvmvZTiWzc\n",
            "To: /content/test.json\n",
            "17.3MB [00:00, 65.3MB/s]\n"
          ],
          "name": "stdout"
        }
      ]
    },
    {
      "cell_type": "code",
      "metadata": {
        "id": "J5udpW5oSzUC"
      },
      "source": [
        "f = open(\"test.json\", \"r\")\n",
        "for x in f:\n",
        "  # Mỗi dòng định dang lại theo format: *article_link* \" *headline* \" *is_sarcastic*\n",
        "  x=x.replace('article_link', \"\")\n",
        "  x=x.replace('headline', \"\")\n",
        "  x=x.replace('is_sarcastic', \"\")\n",
        "  x=x.replace('\"\": \"', \"\")\n",
        "  x=x.replace('\"\": ', \"\")\n",
        "  x=x.replace('{', \"\")\n",
        "  x=x.replace('}', \"\")\n",
        "  x=x.replace('\",', '\"')\n",
        "  \n",
        "  #tạo file test.txt rồi lưu mỗi dòng đã xử lý vào file\n",
        "  fileOutput = \"test.txt\"\n",
        "  f = open(fileOutput, \"a\", encoding=\"utf-8\")\n",
        "  f.writelines(x)\n",
        "  f.close()\n",
        "  "
      ],
      "execution_count": null,
      "outputs": []
    },
    {
      "cell_type": "code",
      "metadata": {
        "id": "2ptyNDmstYcV"
      },
      "source": [
        "#Cell này dùng để đưa data về dạng csv và bỏ qua một số hàng bị lỗi khi crawl (không đáng kể)\n",
        "#Các hàng bị lỗi được in \n",
        "f = open('test.json','r')\n",
        "lines = f.readlines()\n",
        "f1 = open('test.txt','w')\n",
        "for line in lines:\n",
        "  try:\n",
        "    a = line\n",
        "    if a[-1] == '\\n':\n",
        "      if a[-3] != '0' and a[-3] != '1':\n",
        "        print(a)\n",
        "      else:\n",
        "        f1.write(a[18:a.find('\", \"headline\": \"')] + '@_@' + a[a.find('\", \"headline\": \"') + 16:-22] + '@_@' + a[-3] + '\\n')\n",
        "    else:\n",
        "      if a[-3] != '0' and a[-3] != '1':\n",
        "        print(a)\n",
        "      else:\n",
        "        f1.write(a[18:a.find('\", \"headline\": \"')] + '@_@' + a[a.find('\", \"headline\": \"') + 16:-22] + '@_@' + a[-2] + '\\n')\n",
        "  except:\n",
        "    print(a)\n",
        "f.close()\n",
        "f1.close()"
      ],
      "execution_count": null,
      "outputs": []
    },
    {
      "cell_type": "code",
      "metadata": {
        "colab": {
          "base_uri": "https://localhost:8080/",
          "height": 473
        },
        "id": "6wBaAd1ga-8Q",
        "outputId": "01e2f719-e7fa-4900-a2db-5ea50734667b"
      },
      "source": [
        "# Đọc file CSV\n",
        "data_test = pd.read_csv(\"test.txt\", delimiter='@_@', names=['article_link','headline',  'is_sarcastic'])\n",
        "#kiểm tra thông tin của file\n",
        "data_test"
      ],
      "execution_count": null,
      "outputs": [
        {
          "output_type": "stream",
          "text": [
            "/usr/local/lib/python3.7/dist-packages/ipykernel_launcher.py:2: ParserWarning: Falling back to the 'python' engine because the 'c' engine does not support regex separators (separators > 1 char and different from '\\s+' are interpreted as regex); you can avoid this warning by specifying engine='python'.\n",
            "  \n"
          ],
          "name": "stderr"
        },
        {
          "output_type": "execute_result",
          "data": {
            "text/html": [
              "<div>\n",
              "<style scoped>\n",
              "    .dataframe tbody tr th:only-of-type {\n",
              "        vertical-align: middle;\n",
              "    }\n",
              "\n",
              "    .dataframe tbody tr th {\n",
              "        vertical-align: top;\n",
              "    }\n",
              "\n",
              "    .dataframe thead th {\n",
              "        text-align: right;\n",
              "    }\n",
              "</style>\n",
              "<table border=\"1\" class=\"dataframe\">\n",
              "  <thead>\n",
              "    <tr style=\"text-align: right;\">\n",
              "      <th></th>\n",
              "      <th>article_link</th>\n",
              "      <th>headline</th>\n",
              "      <th>is_sarcastic</th>\n",
              "    </tr>\n",
              "  </thead>\n",
              "  <tbody>\n",
              "    <tr>\n",
              "      <th>0</th>\n",
              "      <td>https://www.breitbart.com/europe/2021/06/12/wa...</td>\n",
              "      <td>WATCH: French Far-Left Leader Doused with Flou...</td>\n",
              "      <td>0</td>\n",
              "    </tr>\n",
              "    <tr>\n",
              "      <th>1</th>\n",
              "      <td>https://www.breitbart.com/sports/2021/06/12/l-...</td>\n",
              "      <td>L.A. Super Bowl Host Committee Gives Grant to ...</td>\n",
              "      <td>0</td>\n",
              "    </tr>\n",
              "    <tr>\n",
              "      <th>2</th>\n",
              "      <td>https://www.breitbart.com/politics/2021/06/12/...</td>\n",
              "      <td>PA Falling Short of 70% Fully Vaccinated, Mask...</td>\n",
              "      <td>0</td>\n",
              "    </tr>\n",
              "    <tr>\n",
              "      <th>3</th>\n",
              "      <td>https://www.breitbart.com/politics/2021/06/12/...</td>\n",
              "      <td>CDC: 42.6% of U.S. Adults Are 'Fully Vaccinated'</td>\n",
              "      <td>0</td>\n",
              "    </tr>\n",
              "    <tr>\n",
              "      <th>4</th>\n",
              "      <td>https://www.breitbart.com/border/2021/06/12/10...</td>\n",
              "      <td>100 Migrants Found in Stash House near Border ...</td>\n",
              "      <td>0</td>\n",
              "    </tr>\n",
              "    <tr>\n",
              "      <th>...</th>\n",
              "      <td>...</td>\n",
              "      <td>...</td>\n",
              "      <td>...</td>\n",
              "    </tr>\n",
              "    <tr>\n",
              "      <th>67144</th>\n",
              "      <td>https://newsthump.com/2019/10/03/climate-chang...</td>\n",
              "      <td>climate change \\u2018written off as a hoax\\u20...</td>\n",
              "      <td>1</td>\n",
              "    </tr>\n",
              "    <tr>\n",
              "      <th>67145</th>\n",
              "      <td>https://newsthump.com/2019/06/07/tory-leadersh...</td>\n",
              "      <td>tory leadership contest to introduce swimsuit ...</td>\n",
              "      <td>1</td>\n",
              "    </tr>\n",
              "    <tr>\n",
              "      <th>67146</th>\n",
              "      <td>https://newsthump.com/2019/03/21/im-on-your-si...</td>\n",
              "      <td>\\u201ci\\u2019m on your side\\u201d insists woma...</td>\n",
              "      <td>1</td>\n",
              "    </tr>\n",
              "    <tr>\n",
              "      <th>67147</th>\n",
              "      <td>https://newsthump.com/2019/12/18/whirlpools-ne...</td>\n",
              "      <td>whirlpool\\u2019s new christmas advert shows fa...</td>\n",
              "      <td>1</td>\n",
              "    </tr>\n",
              "    <tr>\n",
              "      <th>67148</th>\n",
              "      <td>https://newsthump.com/2019/06/22/boris-johnson...</td>\n",
              "      <td>boris johnson wakes from massive bender hoping...</td>\n",
              "      <td>1</td>\n",
              "    </tr>\n",
              "  </tbody>\n",
              "</table>\n",
              "<p>67149 rows × 3 columns</p>\n",
              "</div>"
            ],
            "text/plain": [
              "                                            article_link  ... is_sarcastic\n",
              "0      https://www.breitbart.com/europe/2021/06/12/wa...  ...            0\n",
              "1      https://www.breitbart.com/sports/2021/06/12/l-...  ...            0\n",
              "2      https://www.breitbart.com/politics/2021/06/12/...  ...            0\n",
              "3      https://www.breitbart.com/politics/2021/06/12/...  ...            0\n",
              "4      https://www.breitbart.com/border/2021/06/12/10...  ...            0\n",
              "...                                                  ...  ...          ...\n",
              "67144  https://newsthump.com/2019/10/03/climate-chang...  ...            1\n",
              "67145  https://newsthump.com/2019/06/07/tory-leadersh...  ...            1\n",
              "67146  https://newsthump.com/2019/03/21/im-on-your-si...  ...            1\n",
              "67147  https://newsthump.com/2019/12/18/whirlpools-ne...  ...            1\n",
              "67148  https://newsthump.com/2019/06/22/boris-johnson...  ...            1\n",
              "\n",
              "[67149 rows x 3 columns]"
            ]
          },
          "metadata": {
            "tags": []
          },
          "execution_count": 8
        }
      ]
    },
    {
      "cell_type": "code",
      "metadata": {
        "id": "RKyLDwUTv8uL"
      },
      "source": [
        "# link drive của file trang châm biến newsthump: https://drive.google.com/file/d/1ZqSwqFUKrCHQbLwpSvzLtAku3m8j_IWg/view?usp=sharing"
      ],
      "execution_count": null,
      "outputs": []
    },
    {
      "cell_type": "code",
      "metadata": {
        "colab": {
          "base_uri": "https://localhost:8080/"
        },
        "id": "ghbxX0JWwkv3",
        "outputId": "2e1753b7-1b54-4c85-c41c-cf82980e1822"
      },
      "source": [
        "!gdown --id 1ZqSwqFUKrCHQbLwpSvzLtAku3m8j_IWg"
      ],
      "execution_count": null,
      "outputs": [
        {
          "output_type": "stream",
          "text": [
            "Downloading...\n",
            "From: https://drive.google.com/uc?id=1ZqSwqFUKrCHQbLwpSvzLtAku3m8j_IWg\n",
            "To: /content/NewsThump.json\n",
            "\r  0% 0.00/975k [00:00<?, ?B/s]\r100% 975k/975k [00:00<00:00, 52.5MB/s]\n"
          ],
          "name": "stdout"
        }
      ]
    },
    {
      "cell_type": "code",
      "metadata": {
        "id": "zBk52ETfuAEr"
      },
      "source": [
        "#Cell này dùng để đưa data về dạng csv và bỏ qua một số hàng bị lỗi khi crawl (không đáng kể)\n",
        "#Các hàng bị lỗi được in \n",
        "f = open('NewsThump.json','r')\n",
        "lines = f.readlines()\n",
        "f1 = open('NewsThumptest.txt','w')\n",
        "for line in lines:\n",
        "  try:\n",
        "    a = line\n",
        "    if a[-1] == '\\n':\n",
        "      if a[-3] != '0' and a[-3] != '1':\n",
        "        print(a)\n",
        "      else:\n",
        "        f1.write(a[18:a.find('\", \"headline\": \"')] + '@_@' + a[a.find('\", \"headline\": \"') + 16:-22] + '@_@' + a[-3] + '\\n')\n",
        "    else:\n",
        "      if a[-3] != '0' and a[-3] != '1':\n",
        "        print(a)\n",
        "      else:\n",
        "        f1.write(a[18:a.find('\", \"headline\": \"')] + '@_@' + a[a.find('\", \"headline\": \"') + 16:-22] + '@_@' + a[-2] + '\\n')\n",
        "  except:\n",
        "    print(a)\n",
        "f.close()\n",
        "f1.close()"
      ],
      "execution_count": null,
      "outputs": []
    },
    {
      "cell_type": "code",
      "metadata": {
        "colab": {
          "base_uri": "https://localhost:8080/",
          "height": 473
        },
        "id": "793TX-m7xK7t",
        "outputId": "f595f762-17e4-4e6e-cd35-7d01c5c6fdb3"
      },
      "source": [
        "# Đọc file CSV\n",
        "data_test_NT = pd.read_csv(\"NewsThumptest.txt\", delimiter='@_@', names=['article_link','headline',  'is_sarcastic'])\n",
        "#kiểm tra thông tin của file\n",
        "data_test_NT"
      ],
      "execution_count": null,
      "outputs": [
        {
          "output_type": "stream",
          "text": [
            "/usr/local/lib/python3.7/dist-packages/ipykernel_launcher.py:2: ParserWarning: Falling back to the 'python' engine because the 'c' engine does not support regex separators (separators > 1 char and different from '\\s+' are interpreted as regex); you can avoid this warning by specifying engine='python'.\n",
            "  \n"
          ],
          "name": "stderr"
        },
        {
          "output_type": "execute_result",
          "data": {
            "text/html": [
              "<div>\n",
              "<style scoped>\n",
              "    .dataframe tbody tr th:only-of-type {\n",
              "        vertical-align: middle;\n",
              "    }\n",
              "\n",
              "    .dataframe tbody tr th {\n",
              "        vertical-align: top;\n",
              "    }\n",
              "\n",
              "    .dataframe thead th {\n",
              "        text-align: right;\n",
              "    }\n",
              "</style>\n",
              "<table border=\"1\" class=\"dataframe\">\n",
              "  <thead>\n",
              "    <tr style=\"text-align: right;\">\n",
              "      <th></th>\n",
              "      <th>article_link</th>\n",
              "      <th>headline</th>\n",
              "      <th>is_sarcastic</th>\n",
              "    </tr>\n",
              "  </thead>\n",
              "  <tbody>\n",
              "    <tr>\n",
              "      <th>0</th>\n",
              "      <td>https://newsthump.com/2021/04/30/larry-the-cat...</td>\n",
              "      <td>larry the cat already scratched the shit out o...</td>\n",
              "      <td>1</td>\n",
              "    </tr>\n",
              "    <tr>\n",
              "      <th>1</th>\n",
              "      <td>https://newsthump.com/2021/04/19/queen-and-oth...</td>\n",
              "      <td>queen and other top monarchs to break away and...</td>\n",
              "      <td>1</td>\n",
              "    </tr>\n",
              "    <tr>\n",
              "      <th>2</th>\n",
              "      <td>https://newsthump.com/2020/02/13/boris-johnson...</td>\n",
              "      <td>boris johnson unveils new look cabinet</td>\n",
              "      <td>1</td>\n",
              "    </tr>\n",
              "    <tr>\n",
              "      <th>3</th>\n",
              "      <td>https://newsthump.com/2020/02/01/britain-alrea...</td>\n",
              "      <td>britain already 36% more british since leaving...</td>\n",
              "      <td>1</td>\n",
              "    </tr>\n",
              "    <tr>\n",
              "      <th>4</th>\n",
              "      <td>https://newsthump.com/2019/08/28/queen-brillia...</td>\n",
              "      <td>queen brilliantly steers attention away from p...</td>\n",
              "      <td>1</td>\n",
              "    </tr>\n",
              "    <tr>\n",
              "      <th>...</th>\n",
              "      <td>...</td>\n",
              "      <td>...</td>\n",
              "      <td>...</td>\n",
              "    </tr>\n",
              "    <tr>\n",
              "      <th>3800</th>\n",
              "      <td>https://newsthump.com/2019/10/03/climate-chang...</td>\n",
              "      <td>climate change \\u2018written off as a hoax\\u20...</td>\n",
              "      <td>1</td>\n",
              "    </tr>\n",
              "    <tr>\n",
              "      <th>3801</th>\n",
              "      <td>https://newsthump.com/2019/06/07/tory-leadersh...</td>\n",
              "      <td>tory leadership contest to introduce swimsuit ...</td>\n",
              "      <td>1</td>\n",
              "    </tr>\n",
              "    <tr>\n",
              "      <th>3802</th>\n",
              "      <td>https://newsthump.com/2019/03/21/im-on-your-si...</td>\n",
              "      <td>\\u201ci\\u2019m on your side\\u201d insists woma...</td>\n",
              "      <td>1</td>\n",
              "    </tr>\n",
              "    <tr>\n",
              "      <th>3803</th>\n",
              "      <td>https://newsthump.com/2019/12/18/whirlpools-ne...</td>\n",
              "      <td>whirlpool\\u2019s new christmas advert shows fa...</td>\n",
              "      <td>1</td>\n",
              "    </tr>\n",
              "    <tr>\n",
              "      <th>3804</th>\n",
              "      <td>https://newsthump.com/2019/06/22/boris-johnson...</td>\n",
              "      <td>boris johnson wakes from massive bender hoping...</td>\n",
              "      <td>1</td>\n",
              "    </tr>\n",
              "  </tbody>\n",
              "</table>\n",
              "<p>3805 rows × 3 columns</p>\n",
              "</div>"
            ],
            "text/plain": [
              "                                           article_link  ... is_sarcastic\n",
              "0     https://newsthump.com/2021/04/30/larry-the-cat...  ...            1\n",
              "1     https://newsthump.com/2021/04/19/queen-and-oth...  ...            1\n",
              "2     https://newsthump.com/2020/02/13/boris-johnson...  ...            1\n",
              "3     https://newsthump.com/2020/02/01/britain-alrea...  ...            1\n",
              "4     https://newsthump.com/2019/08/28/queen-brillia...  ...            1\n",
              "...                                                 ...  ...          ...\n",
              "3800  https://newsthump.com/2019/10/03/climate-chang...  ...            1\n",
              "3801  https://newsthump.com/2019/06/07/tory-leadersh...  ...            1\n",
              "3802  https://newsthump.com/2019/03/21/im-on-your-si...  ...            1\n",
              "3803  https://newsthump.com/2019/12/18/whirlpools-ne...  ...            1\n",
              "3804  https://newsthump.com/2019/06/22/boris-johnson...  ...            1\n",
              "\n",
              "[3805 rows x 3 columns]"
            ]
          },
          "metadata": {
            "tags": []
          },
          "execution_count": 12
        }
      ]
    },
    {
      "cell_type": "code",
      "metadata": {
        "id": "Y9oHj-13bZ53"
      },
      "source": [
        "# Data train\n",
        "#Xóa dòng có giá trị NaN xa khỏi data\n",
        "data_train = data_train.dropna(how = 'any')\n",
        "# Lấy 2 cột cần thiết là headline và is_sarcastic\n",
        "new_data_train = data_train.copy()\n",
        "new_data_train = new_data_train[['headline', 'is_sarcastic']]\n",
        "\n",
        "# Data test\n",
        "#Xóa dòng có giá trị NaN xa khỏi data\n",
        "data_test = data_test.dropna(how = 'any')\n",
        "# Lấy 2 cột cần thiết là headline và is_sarcastic\n",
        "new_data_test = data_test.copy()\n",
        "new_data_test = new_data_test[['headline', 'is_sarcastic']]\n",
        "\n",
        "# Data test NewsThump\n",
        "#Xóa dòng có giá trị NaN xa khỏi data\n",
        "data_test_NT = data_test_NT.dropna(how = 'any')\n",
        "# Lấy 2 cột cần thiết là headline và is_sarcastic\n",
        "new_data_test_NT = data_test_NT.copy()\n",
        "new_data_test_NT = new_data_test_NT[['headline', 'is_sarcastic']]\n"
      ],
      "execution_count": null,
      "outputs": []
    },
    {
      "cell_type": "code",
      "metadata": {
        "id": "An4P_O9_ueDQ"
      },
      "source": [
        "import re \n",
        "def format(x):\n",
        "    #chuyển tất cả sang string\n",
        "    x=str(x)\n",
        "    # Loại bỏ các kí tự khác 0 - 9, a - z và khoảng cách\n",
        "    x = re.sub(\"[^0-9a-z ]\", '', x)\n",
        "    return x"
      ],
      "execution_count": null,
      "outputs": []
    },
    {
      "cell_type": "code",
      "metadata": {
        "colab": {
          "base_uri": "https://localhost:8080/",
          "height": 419
        },
        "id": "kCJLlUcYcjIb",
        "outputId": "699f9ad5-73e9-4d04-c929-d66b543999cf"
      },
      "source": [
        "\n",
        "new_data_train['headline'] = new_data_train['headline'].apply(format)\n",
        "\n",
        "new_data_train"
      ],
      "execution_count": null,
      "outputs": [
        {
          "output_type": "execute_result",
          "data": {
            "text/html": [
              "<div>\n",
              "<style scoped>\n",
              "    .dataframe tbody tr th:only-of-type {\n",
              "        vertical-align: middle;\n",
              "    }\n",
              "\n",
              "    .dataframe tbody tr th {\n",
              "        vertical-align: top;\n",
              "    }\n",
              "\n",
              "    .dataframe thead th {\n",
              "        text-align: right;\n",
              "    }\n",
              "</style>\n",
              "<table border=\"1\" class=\"dataframe\">\n",
              "  <thead>\n",
              "    <tr style=\"text-align: right;\">\n",
              "      <th></th>\n",
              "      <th>headline</th>\n",
              "      <th>is_sarcastic</th>\n",
              "    </tr>\n",
              "  </thead>\n",
              "  <tbody>\n",
              "    <tr>\n",
              "      <th>0</th>\n",
              "      <td>aston villa match postponed after covid19 outb...</td>\n",
              "      <td>0</td>\n",
              "    </tr>\n",
              "    <tr>\n",
              "      <th>1</th>\n",
              "      <td>antarctic architect hugh broughton wants warm ...</td>\n",
              "      <td>0</td>\n",
              "    </tr>\n",
              "    <tr>\n",
              "      <th>2</th>\n",
              "      <td>argentina captain pablo matera sacked over rac...</td>\n",
              "      <td>0</td>\n",
              "    </tr>\n",
              "    <tr>\n",
              "      <th>3</th>\n",
              "      <td>amazon paintings reveal ice age civilisation</td>\n",
              "      <td>0</td>\n",
              "    </tr>\n",
              "    <tr>\n",
              "      <th>4</th>\n",
              "      <td>autumn as told by a farmer and poet</td>\n",
              "      <td>0</td>\n",
              "    </tr>\n",
              "    <tr>\n",
              "      <th>...</th>\n",
              "      <td>...</td>\n",
              "      <td>...</td>\n",
              "    </tr>\n",
              "    <tr>\n",
              "      <th>842482</th>\n",
              "      <td>zuckerberg begins testimony by reminding senat...</td>\n",
              "      <td>1</td>\n",
              "    </tr>\n",
              "    <tr>\n",
              "      <th>842483</th>\n",
              "      <td>mark zuckerberg emerges from under mans bed to...</td>\n",
              "      <td>1</td>\n",
              "    </tr>\n",
              "    <tr>\n",
              "      <th>842484</th>\n",
              "      <td>zuckerberg loses contact lens during senate he...</td>\n",
              "      <td>1</td>\n",
              "    </tr>\n",
              "    <tr>\n",
              "      <th>842485</th>\n",
              "      <td>zuckerberg promises new dating service will re...</td>\n",
              "      <td>1</td>\n",
              "    </tr>\n",
              "    <tr>\n",
              "      <th>842486</th>\n",
              "      <td>zuckerberg requires house members to accept te...</td>\n",
              "      <td>1</td>\n",
              "    </tr>\n",
              "  </tbody>\n",
              "</table>\n",
              "<p>842471 rows × 2 columns</p>\n",
              "</div>"
            ],
            "text/plain": [
              "                                                 headline  is_sarcastic\n",
              "0       aston villa match postponed after covid19 outb...             0\n",
              "1       antarctic architect hugh broughton wants warm ...             0\n",
              "2       argentina captain pablo matera sacked over rac...             0\n",
              "3            amazon paintings reveal ice age civilisation             0\n",
              "4                     autumn as told by a farmer and poet             0\n",
              "...                                                   ...           ...\n",
              "842482  zuckerberg begins testimony by reminding senat...             1\n",
              "842483  mark zuckerberg emerges from under mans bed to...             1\n",
              "842484  zuckerberg loses contact lens during senate he...             1\n",
              "842485  zuckerberg promises new dating service will re...             1\n",
              "842486  zuckerberg requires house members to accept te...             1\n",
              "\n",
              "[842471 rows x 2 columns]"
            ]
          },
          "metadata": {
            "tags": []
          },
          "execution_count": 15
        }
      ]
    },
    {
      "cell_type": "code",
      "metadata": {
        "colab": {
          "base_uri": "https://localhost:8080/",
          "height": 419
        },
        "id": "5Ykqo6JJcmC-",
        "outputId": "8dc391f4-31dd-4d59-b839-b9c704c214dc"
      },
      "source": [
        "\n",
        "new_data_test['headline'] = new_data_test['headline'].apply(format)\n",
        "\n",
        "new_data_test"
      ],
      "execution_count": null,
      "outputs": [
        {
          "output_type": "execute_result",
          "data": {
            "text/html": [
              "<div>\n",
              "<style scoped>\n",
              "    .dataframe tbody tr th:only-of-type {\n",
              "        vertical-align: middle;\n",
              "    }\n",
              "\n",
              "    .dataframe tbody tr th {\n",
              "        vertical-align: top;\n",
              "    }\n",
              "\n",
              "    .dataframe thead th {\n",
              "        text-align: right;\n",
              "    }\n",
              "</style>\n",
              "<table border=\"1\" class=\"dataframe\">\n",
              "  <thead>\n",
              "    <tr style=\"text-align: right;\">\n",
              "      <th></th>\n",
              "      <th>headline</th>\n",
              "      <th>is_sarcastic</th>\n",
              "    </tr>\n",
              "  </thead>\n",
              "  <tbody>\n",
              "    <tr>\n",
              "      <th>0</th>\n",
              "      <td>rench areft eader oused with lour by rotester</td>\n",
              "      <td>0</td>\n",
              "    </tr>\n",
              "    <tr>\n",
              "      <th>1</th>\n",
              "      <td>uper owl ost ommittee ives rant to ctivists e...</td>\n",
              "      <td>0</td>\n",
              "    </tr>\n",
              "    <tr>\n",
              "      <th>2</th>\n",
              "      <td>alling hort of 70 ully accinated ask andate t...</td>\n",
              "      <td>0</td>\n",
              "    </tr>\n",
              "    <tr>\n",
              "      <th>3</th>\n",
              "      <td>426 of  dults re ully accinated</td>\n",
              "      <td>0</td>\n",
              "    </tr>\n",
              "    <tr>\n",
              "      <th>4</th>\n",
              "      <td>100 igrants ound in tash ouse near order in exas</td>\n",
              "      <td>0</td>\n",
              "    </tr>\n",
              "    <tr>\n",
              "      <th>...</th>\n",
              "      <td>...</td>\n",
              "      <td>...</td>\n",
              "    </tr>\n",
              "    <tr>\n",
              "      <th>67144</th>\n",
              "      <td>climate change u2018written off as a hoaxu2019...</td>\n",
              "      <td>1</td>\n",
              "    </tr>\n",
              "    <tr>\n",
              "      <th>67145</th>\n",
              "      <td>tory leadership contest to introduce swimsuit ...</td>\n",
              "      <td>1</td>\n",
              "    </tr>\n",
              "    <tr>\n",
              "      <th>67146</th>\n",
              "      <td>u201ciu2019m on your sideu201d insists woman w...</td>\n",
              "      <td>1</td>\n",
              "    </tr>\n",
              "    <tr>\n",
              "      <th>67147</th>\n",
              "      <td>whirlpoolu2019s new christmas advert shows fam...</td>\n",
              "      <td>1</td>\n",
              "    </tr>\n",
              "    <tr>\n",
              "      <th>67148</th>\n",
              "      <td>boris johnson wakes from massive bender hoping...</td>\n",
              "      <td>1</td>\n",
              "    </tr>\n",
              "  </tbody>\n",
              "</table>\n",
              "<p>67149 rows × 2 columns</p>\n",
              "</div>"
            ],
            "text/plain": [
              "                                                headline  is_sarcastic\n",
              "0          rench areft eader oused with lour by rotester             0\n",
              "1       uper owl ost ommittee ives rant to ctivists e...             0\n",
              "2       alling hort of 70 ully accinated ask andate t...             0\n",
              "3                        426 of  dults re ully accinated             0\n",
              "4       100 igrants ound in tash ouse near order in exas             0\n",
              "...                                                  ...           ...\n",
              "67144  climate change u2018written off as a hoaxu2019...             1\n",
              "67145  tory leadership contest to introduce swimsuit ...             1\n",
              "67146  u201ciu2019m on your sideu201d insists woman w...             1\n",
              "67147  whirlpoolu2019s new christmas advert shows fam...             1\n",
              "67148  boris johnson wakes from massive bender hoping...             1\n",
              "\n",
              "[67149 rows x 2 columns]"
            ]
          },
          "metadata": {
            "tags": []
          },
          "execution_count": 16
        }
      ]
    },
    {
      "cell_type": "code",
      "metadata": {
        "colab": {
          "base_uri": "https://localhost:8080/",
          "height": 419
        },
        "id": "y5kwc8vd3P43",
        "outputId": "f239d39d-ac1a-42d2-b4db-2d8a01e7b8d5"
      },
      "source": [
        "\n",
        "new_data_test_NT['headline'] = new_data_test_NT['headline'].apply(format)\n",
        "\n",
        "new_data_test_NT"
      ],
      "execution_count": null,
      "outputs": [
        {
          "output_type": "execute_result",
          "data": {
            "text/html": [
              "<div>\n",
              "<style scoped>\n",
              "    .dataframe tbody tr th:only-of-type {\n",
              "        vertical-align: middle;\n",
              "    }\n",
              "\n",
              "    .dataframe tbody tr th {\n",
              "        vertical-align: top;\n",
              "    }\n",
              "\n",
              "    .dataframe thead th {\n",
              "        text-align: right;\n",
              "    }\n",
              "</style>\n",
              "<table border=\"1\" class=\"dataframe\">\n",
              "  <thead>\n",
              "    <tr style=\"text-align: right;\">\n",
              "      <th></th>\n",
              "      <th>headline</th>\n",
              "      <th>is_sarcastic</th>\n",
              "    </tr>\n",
              "  </thead>\n",
              "  <tbody>\n",
              "    <tr>\n",
              "      <th>0</th>\n",
              "      <td>larry the cat already scratched the shit out o...</td>\n",
              "      <td>1</td>\n",
              "    </tr>\n",
              "    <tr>\n",
              "      <th>1</th>\n",
              "      <td>queen and other top monarchs to break away and...</td>\n",
              "      <td>1</td>\n",
              "    </tr>\n",
              "    <tr>\n",
              "      <th>2</th>\n",
              "      <td>boris johnson unveils new look cabinet</td>\n",
              "      <td>1</td>\n",
              "    </tr>\n",
              "    <tr>\n",
              "      <th>3</th>\n",
              "      <td>britain already 36 more british since leaving ...</td>\n",
              "      <td>1</td>\n",
              "    </tr>\n",
              "    <tr>\n",
              "      <th>4</th>\n",
              "      <td>queen brilliantly steers attention away from p...</td>\n",
              "      <td>1</td>\n",
              "    </tr>\n",
              "    <tr>\n",
              "      <th>...</th>\n",
              "      <td>...</td>\n",
              "      <td>...</td>\n",
              "    </tr>\n",
              "    <tr>\n",
              "      <th>3800</th>\n",
              "      <td>climate change u2018written off as a hoaxu2019...</td>\n",
              "      <td>1</td>\n",
              "    </tr>\n",
              "    <tr>\n",
              "      <th>3801</th>\n",
              "      <td>tory leadership contest to introduce swimsuit ...</td>\n",
              "      <td>1</td>\n",
              "    </tr>\n",
              "    <tr>\n",
              "      <th>3802</th>\n",
              "      <td>u201ciu2019m on your sideu201d insists woman w...</td>\n",
              "      <td>1</td>\n",
              "    </tr>\n",
              "    <tr>\n",
              "      <th>3803</th>\n",
              "      <td>whirlpoolu2019s new christmas advert shows fam...</td>\n",
              "      <td>1</td>\n",
              "    </tr>\n",
              "    <tr>\n",
              "      <th>3804</th>\n",
              "      <td>boris johnson wakes from massive bender hoping...</td>\n",
              "      <td>1</td>\n",
              "    </tr>\n",
              "  </tbody>\n",
              "</table>\n",
              "<p>3805 rows × 2 columns</p>\n",
              "</div>"
            ],
            "text/plain": [
              "                                               headline  is_sarcastic\n",
              "0     larry the cat already scratched the shit out o...             1\n",
              "1     queen and other top monarchs to break away and...             1\n",
              "2                boris johnson unveils new look cabinet             1\n",
              "3     britain already 36 more british since leaving ...             1\n",
              "4     queen brilliantly steers attention away from p...             1\n",
              "...                                                 ...           ...\n",
              "3800  climate change u2018written off as a hoaxu2019...             1\n",
              "3801  tory leadership contest to introduce swimsuit ...             1\n",
              "3802  u201ciu2019m on your sideu201d insists woman w...             1\n",
              "3803  whirlpoolu2019s new christmas advert shows fam...             1\n",
              "3804  boris johnson wakes from massive bender hoping...             1\n",
              "\n",
              "[3805 rows x 2 columns]"
            ]
          },
          "metadata": {
            "tags": []
          },
          "execution_count": 17
        }
      ]
    },
    {
      "cell_type": "markdown",
      "metadata": {
        "id": "440hRCGj3C8Y"
      },
      "source": [
        "# **3.Removing stop words with NLTK in Python**\n"
      ]
    },
    {
      "cell_type": "code",
      "metadata": {
        "colab": {
          "base_uri": "https://localhost:8080/"
        },
        "id": "t8m8N8ZvcqoL",
        "outputId": "15ac823a-7df6-4165-de12-8baf6ba3ba2d"
      },
      "source": [
        "#Nguồn tham khảo: https://www.geeksforgeeks.org/removing-stop-words-nltk-python/\n",
        "import nltk \n",
        "nltk.download('punkt')\n",
        "from nltk.tokenize import word_tokenize\n",
        "nltk.download(\"stopwords\")\n",
        "from nltk.corpus import stopwords\n",
        "x_train_nltk = []\n",
        "for s in new_data_train['headline']:\n",
        "  s=str(s)\n",
        "  x_train_nltk.append(word_tokenize(s))\n",
        "\n",
        "x_test_nltk = []\n",
        "for s in new_data_test['headline']:\n",
        "  s=str(s)\n",
        "  x_test_nltk.append(word_tokenize(s))\n",
        "\n",
        "x_test_NT_nltk = []\n",
        "for s in new_data_test_NT['headline']:\n",
        "  s=str(s)\n",
        "  x_test_NT_nltk.append(word_tokenize(s))"
      ],
      "execution_count": null,
      "outputs": [
        {
          "output_type": "stream",
          "text": [
            "[nltk_data] Downloading package punkt to /root/nltk_data...\n",
            "[nltk_data]   Unzipping tokenizers/punkt.zip.\n",
            "[nltk_data] Downloading package stopwords to /root/nltk_data...\n",
            "[nltk_data]   Unzipping corpora/stopwords.zip.\n"
          ],
          "name": "stdout"
        }
      ]
    },
    {
      "cell_type": "code",
      "metadata": {
        "colab": {
          "base_uri": "https://localhost:8080/"
        },
        "id": "QF4Fm8Xx-hbF",
        "outputId": "87f92901-66ba-480a-98fe-08c438e3723c"
      },
      "source": [
        "#danh sách tất cả stop words\n",
        "all_stopwords=set(stopwords.words('english'))\n",
        "print(all_stopwords)\n",
        "print(len(all_stopwords))"
      ],
      "execution_count": null,
      "outputs": [
        {
          "output_type": "stream",
          "text": [
            "{'again', 'isn', 'didn', 'yourself', 'nor', 'or', 'what', 'does', 'i', \"you'll\", 'the', 'do', \"aren't\", 'were', 't', \"won't\", \"couldn't\", 'same', 'which', 'your', 'was', 'so', 'but', 'hers', 'between', 'm', 've', 'no', \"haven't\", \"needn't\", \"didn't\", 'been', 'its', 'ma', \"doesn't\", 'we', 'to', 'doing', 'up', 'now', 'did', 'wasn', 'them', 'this', 'more', 'each', 'below', \"mightn't\", 'mustn', 'when', 'than', 'from', 'him', 'me', 'being', 'in', 'for', \"weren't\", 'needn', 'ourselves', 'theirs', 'under', 'you', 'yourselves', 'once', 'both', 'before', 'haven', 'ours', \"she's\", 'don', 'our', 'her', 'other', 'whom', 'couldn', 'y', 'it', 'over', \"it's\", 'against', 'because', 'until', \"don't\", 'those', 'while', \"you're\", \"that'll\", 'into', \"you'd\", 'at', 'has', 'few', 'having', 'some', 'there', 'his', 's', 'herself', 'she', 'by', 'mightn', 'shan', 'be', 'then', 'through', 'not', 'with', 'myself', 'and', 'have', 'own', 'weren', 'about', 'on', 'wouldn', 're', 'ain', 'am', 'hasn', \"you've\", 'as', 'how', \"hadn't\", \"wouldn't\", 'itself', 'doesn', 'a', 'most', 'after', 'should', 'd', 'aren', 'any', 'themselves', 'too', 'out', 'yours', 'himself', 'down', 'during', 'their', \"mustn't\", 'my', 'shouldn', 'these', 'can', 'he', 'off', \"hasn't\", 'just', 'all', 'only', 'is', 'why', 'of', 'who', 'won', 'll', \"shan't\", 'o', 'further', 'that', 'will', \"isn't\", 'here', 'are', \"wasn't\", 'such', 'an', 'where', 'they', \"should've\", 'above', \"shouldn't\", 'very', 'hadn', 'if', 'had'}\n",
            "179\n"
          ],
          "name": "stdout"
        }
      ]
    },
    {
      "cell_type": "code",
      "metadata": {
        "id": "NA-p8h70_1lL"
      },
      "source": [
        "#loại bỏ stop words trong data train:\n",
        "filtered_sentence_train = []\n",
        "for words in x_train_nltk:\n",
        "  filtered_sentence=[]\n",
        "  for w in words:\n",
        "    if w not in all_stopwords:\n",
        "        filtered_sentence.append(w)\n",
        "  filtered_sentence_train.append(filtered_sentence)\n",
        "#loại bỏ stop words trong data test:\n",
        "filtered_sentence_test = []\n",
        "for words in x_test_nltk:\n",
        "  filtered_sentence=[]\n",
        "  for w in words:\n",
        "    if w not in all_stopwords:\n",
        "        filtered_sentence.append(w)\n",
        "  filtered_sentence_test.append(filtered_sentence)\n",
        "\n",
        "#loại bỏ stop words trong data test NewsThump:\n",
        "filtered_sentence_test_NT = []\n",
        "for words in x_test_NT_nltk:\n",
        "  filtered_sentence=[]\n",
        "  for w in words:\n",
        "    if w not in all_stopwords:\n",
        "        filtered_sentence.append(w)\n",
        "  filtered_sentence_test_NT.append(filtered_sentence)"
      ],
      "execution_count": null,
      "outputs": []
    },
    {
      "cell_type": "markdown",
      "metadata": {
        "id": "WVgM8hFB1y2V"
      },
      "source": [
        "# **4.Train với data chưa xóa stop_word**"
      ]
    },
    {
      "cell_type": "code",
      "metadata": {
        "id": "5ZQ1KWTaGHBS"
      },
      "source": [
        "x_train, y_train = np.array(new_data_train['headline']), np.array(new_data_train['is_sarcastic'])\n",
        "x_test, y_test = np.array(new_data_test['headline']), np.array(new_data_test['is_sarcastic'])\n",
        "x_test_NT, y_test_NT= np.array(new_data_test_NT['headline']), np.array(new_data_test_NT['is_sarcastic'])"
      ],
      "execution_count": null,
      "outputs": []
    },
    {
      "cell_type": "code",
      "metadata": {
        "colab": {
          "base_uri": "https://localhost:8080/"
        },
        "id": "b_j-gFYMgzlB",
        "outputId": "9fae7b42-dc10-4021-d6bb-8874bdb67cff"
      },
      "source": [
        "#Nguồn code tham khảo: https://scikit-learn.org/stable/tutorial/text_analytics/working_with_text_data.html\n",
        "#                      https://towardsdatascience.com/machine-learning-nlp-text-classification-using-scikit-learn-python-and-nltk-c52b92a7c73a\n",
        "from sklearn.feature_extraction.text import CountVectorizer\n",
        "from sklearn.feature_extraction.text import TfidfTransformer\n",
        "from sklearn.naive_bayes import MultinomialNB\n",
        "from sklearn.pipeline import Pipeline\n",
        "import numpy as np\n",
        "\n",
        "text_clf = Pipeline([\n",
        "    ('vect', CountVectorizer()),\n",
        "    ('tfidf', TfidfTransformer()),\n",
        "    ('clf', MultinomialNB()),\n",
        "])\n",
        "\n",
        "text_clf.fit(x_train, y_train)\n",
        "#predict với data tổng hợp\n",
        "y_predict = text_clf.predict(x_test)\n",
        "\n",
        "#Đo độ chính xác\n",
        "np.mean(y_predict == y_test) \n"
      ],
      "execution_count": null,
      "outputs": [
        {
          "output_type": "execute_result",
          "data": {
            "text/plain": [
              "0.9428733115906417"
            ]
          },
          "metadata": {
            "tags": []
          },
          "execution_count": 22
        }
      ]
    },
    {
      "cell_type": "code",
      "metadata": {
        "colab": {
          "base_uri": "https://localhost:8080/"
        },
        "id": "Se_mMWws5o6T",
        "outputId": "e4ccbe80-02da-4ed2-dc2b-c1879e190add"
      },
      "source": [
        "\n",
        "\n",
        "#predict chỉ với data trang châm biếm NewsThump\n",
        "y_predict_NT = text_clf.predict(x_test_NT)\n",
        "\n",
        "#Đo độ chính xác NT:\n",
        "np.mean(y_predict_NT == y_test_NT)"
      ],
      "execution_count": null,
      "outputs": [
        {
          "output_type": "execute_result",
          "data": {
            "text/plain": [
              "0.00026281208935611036"
            ]
          },
          "metadata": {
            "tags": []
          },
          "execution_count": 23
        }
      ]
    },
    {
      "cell_type": "code",
      "metadata": {
        "colab": {
          "base_uri": "https://localhost:8080/"
        },
        "id": "cNtCcnD96mbU",
        "outputId": "89fa6c1d-33f4-44ee-83bf-38bc6506abee"
      },
      "source": [
        "from sklearn.linear_model import SGDClassifier\n",
        "text_clf = Pipeline([\n",
        "     ('vect', CountVectorizer()),\n",
        "     ('tfidf', TfidfTransformer()),\n",
        "     ('clf', SGDClassifier()),\n",
        " ])\n",
        "text_clf.fit(x_train, y_train)\n",
        "\n",
        "y_predict = text_clf.predict(x_test)\n",
        "#Đo độ chính xác\n",
        "np.mean(y_predict == y_test) "
      ],
      "execution_count": null,
      "outputs": [
        {
          "output_type": "execute_result",
          "data": {
            "text/plain": [
              "0.9433349714813326"
            ]
          },
          "metadata": {
            "tags": []
          },
          "execution_count": 24
        }
      ]
    },
    {
      "cell_type": "code",
      "metadata": {
        "colab": {
          "base_uri": "https://localhost:8080/"
        },
        "id": "2U8VKabt6Jj4",
        "outputId": "4da59331-91a5-4ec0-e5cd-42a41a7c4a1b"
      },
      "source": [
        "#predict chỉ với data trang châm biếm NewsThump\n",
        "\n",
        "y_predict_NT = text_clf.predict(x_test_NT)\n",
        "#Đo độ chính xác\n",
        "np.mean(y_predict_NT == y_test_NT) "
      ],
      "execution_count": null,
      "outputs": [
        {
          "output_type": "execute_result",
          "data": {
            "text/plain": [
              "0.0"
            ]
          },
          "metadata": {
            "tags": []
          },
          "execution_count": 25
        }
      ]
    },
    {
      "cell_type": "markdown",
      "metadata": {
        "id": "yur4mY2JhwKR"
      },
      "source": [
        "# **4.Train với data đã xóa stop_word**"
      ]
    },
    {
      "cell_type": "code",
      "metadata": {
        "id": "raaB0dz3x1ce"
      },
      "source": [
        "x_train, y_train = filtered_sentence_train, new_data_train['is_sarcastic']\n",
        "x_test, y_test =  filtered_sentence_test, new_data_test['is_sarcastic']\n",
        "x_test_NT, y_test_NT = filtered_sentence_test_NT, new_data_test_NT['is_sarcastic']"
      ],
      "execution_count": null,
      "outputs": []
    },
    {
      "cell_type": "code",
      "metadata": {
        "id": "wjvXrCGQzY1A"
      },
      "source": [
        "# Vì data train và test sau khi xóa stop words là list không fit được nên chuyển tập list thành string \n",
        "# Nguồn code tham khảo: https://www.geeksforgeeks.org/python-program-to-convert-a-list-to-string/\n",
        "x_train = [\" \".join(x) for x in x_train]\n",
        "x_test =[\" \".join(x) for x in x_test]\n",
        "x_test_NT = [\" \".join(x) for x in x_test_NT]"
      ],
      "execution_count": null,
      "outputs": []
    },
    {
      "cell_type": "code",
      "metadata": {
        "colab": {
          "base_uri": "https://localhost:8080/"
        },
        "id": "_Q8uBCK4y0BD",
        "outputId": "dbe263eb-62e3-4f40-c99c-9f607b1dc3d6"
      },
      "source": [
        "from sklearn.linear_model import SGDClassifier\n",
        "text_clf = Pipeline([\n",
        "     ('vect', CountVectorizer()),\n",
        "     ('tfidf', TfidfTransformer()),\n",
        "     ('clf', SGDClassifier()),\n",
        " ])\n",
        "text_clf.fit(x_train, y_train)\n",
        "\n",
        "y_predict = text_clf.predict(x_test)\n",
        "#Đo độ chính xác\n",
        "np.mean(y_predict == y_test) "
      ],
      "execution_count": null,
      "outputs": [
        {
          "output_type": "execute_result",
          "data": {
            "text/plain": [
              "0.9433349714813326"
            ]
          },
          "metadata": {
            "tags": []
          },
          "execution_count": 28
        }
      ]
    },
    {
      "cell_type": "code",
      "metadata": {
        "colab": {
          "base_uri": "https://localhost:8080/"
        },
        "id": "m00HyCdt9yz_",
        "outputId": "cf5f69c6-ea86-4ea7-d359-e2b141dcc667"
      },
      "source": [
        "#predict chỉ với data trang châm biếm NewsThump\n",
        "\n",
        "y_predict_NT = text_clf.predict(x_test_NT)\n",
        "#Đo độ chính xác\n",
        "np.mean(y_predict_NT == y_test_NT) "
      ],
      "execution_count": null,
      "outputs": [
        {
          "output_type": "execute_result",
          "data": {
            "text/plain": [
              "0.0"
            ]
          },
          "metadata": {
            "tags": []
          },
          "execution_count": 29
        }
      ]
    },
    {
      "cell_type": "code",
      "metadata": {
        "colab": {
          "base_uri": "https://localhost:8080/"
        },
        "id": "RxrwiG9CChUz",
        "outputId": "f5196eaa-16c6-4f0d-8014-f77af1c31837"
      },
      "source": [
        "text_clf = Pipeline([\n",
        "    ('vect', CountVectorizer()),\n",
        "    ('tfidf', TfidfTransformer()),\n",
        "    ('clf', MultinomialNB()),\n",
        "])\n",
        "\n",
        "text_clf.fit(x_train, y_train)\n",
        "\n",
        "y_predict = text_clf.predict(x_test)\n",
        "#Đo độ chính xác\n",
        "y_predict\n",
        "np.mean(y_predict == y_test) "
      ],
      "execution_count": null,
      "outputs": [
        {
          "output_type": "execute_result",
          "data": {
            "text/plain": [
              "0.9427541735543344"
            ]
          },
          "metadata": {
            "tags": []
          },
          "execution_count": 30
        }
      ]
    },
    {
      "cell_type": "code",
      "metadata": {
        "colab": {
          "base_uri": "https://localhost:8080/"
        },
        "id": "2UXyHKS6--Ij",
        "outputId": "fecbe5b0-3883-404d-b353-85e73374374b"
      },
      "source": [
        "\n",
        "\n",
        "#predict chỉ với data trang châm biếm NewsThump\n",
        "y_predict_NT = text_clf.predict(x_test_NT)\n",
        "\n",
        "#Đo độ chính xác NT:\n",
        "np.mean(y_predict_NT == y_test_NT)"
      ],
      "execution_count": null,
      "outputs": [
        {
          "output_type": "execute_result",
          "data": {
            "text/plain": [
              "0.0005256241787122207"
            ]
          },
          "metadata": {
            "tags": []
          },
          "execution_count": 31
        }
      ]
    },
    {
      "cell_type": "markdown",
      "metadata": {
        "id": "pK31IlkLxn4z"
      },
      "source": [
        "# **5.Điều chỉnh train data train**"
      ]
    },
    {
      "cell_type": "code",
      "metadata": {
        "colab": {
          "base_uri": "https://localhost:8080/",
          "height": 419
        },
        "id": "AqoGOPX321Xq",
        "outputId": "fc227b66-67b7-456a-c471-d648581fcffe"
      },
      "source": [
        "sar_data = new_data_train[new_data_train['is_sarcastic'] == 1] #Lọc các tiêu đề báo châm biếm từ DF ban \n",
        "sar_data"
      ],
      "execution_count": null,
      "outputs": [
        {
          "output_type": "execute_result",
          "data": {
            "text/html": [
              "<div>\n",
              "<style scoped>\n",
              "    .dataframe tbody tr th:only-of-type {\n",
              "        vertical-align: middle;\n",
              "    }\n",
              "\n",
              "    .dataframe tbody tr th {\n",
              "        vertical-align: top;\n",
              "    }\n",
              "\n",
              "    .dataframe thead th {\n",
              "        text-align: right;\n",
              "    }\n",
              "</style>\n",
              "<table border=\"1\" class=\"dataframe\">\n",
              "  <thead>\n",
              "    <tr style=\"text-align: right;\">\n",
              "      <th></th>\n",
              "      <th>headline</th>\n",
              "      <th>is_sarcastic</th>\n",
              "    </tr>\n",
              "  </thead>\n",
              "  <tbody>\n",
              "    <tr>\n",
              "      <th>355262</th>\n",
              "      <td>elon musk admits he wants to travel to mars be...</td>\n",
              "      <td>1</td>\n",
              "    </tr>\n",
              "    <tr>\n",
              "      <th>355263</th>\n",
              "      <td>gamer begins wiki deep dive to catch up on ser...</td>\n",
              "      <td>1</td>\n",
              "    </tr>\n",
              "    <tr>\n",
              "      <th>355264</th>\n",
              "      <td>mans cell phone disagrees that alexa is listen...</td>\n",
              "      <td>1</td>\n",
              "    </tr>\n",
              "    <tr>\n",
              "      <th>355265</th>\n",
              "      <td>gamer captures bigfoot at atrocious 1080p reso...</td>\n",
              "      <td>1</td>\n",
              "    </tr>\n",
              "    <tr>\n",
              "      <th>355266</th>\n",
              "      <td>even conspiracy theorist kinda surprised how r...</td>\n",
              "      <td>1</td>\n",
              "    </tr>\n",
              "    <tr>\n",
              "      <th>...</th>\n",
              "      <td>...</td>\n",
              "      <td>...</td>\n",
              "    </tr>\n",
              "    <tr>\n",
              "      <th>842482</th>\n",
              "      <td>zuckerberg begins testimony by reminding senat...</td>\n",
              "      <td>1</td>\n",
              "    </tr>\n",
              "    <tr>\n",
              "      <th>842483</th>\n",
              "      <td>mark zuckerberg emerges from under mans bed to...</td>\n",
              "      <td>1</td>\n",
              "    </tr>\n",
              "    <tr>\n",
              "      <th>842484</th>\n",
              "      <td>zuckerberg loses contact lens during senate he...</td>\n",
              "      <td>1</td>\n",
              "    </tr>\n",
              "    <tr>\n",
              "      <th>842485</th>\n",
              "      <td>zuckerberg promises new dating service will re...</td>\n",
              "      <td>1</td>\n",
              "    </tr>\n",
              "    <tr>\n",
              "      <th>842486</th>\n",
              "      <td>zuckerberg requires house members to accept te...</td>\n",
              "      <td>1</td>\n",
              "    </tr>\n",
              "  </tbody>\n",
              "</table>\n",
              "<p>22180 rows × 2 columns</p>\n",
              "</div>"
            ],
            "text/plain": [
              "                                                 headline  is_sarcastic\n",
              "355262  elon musk admits he wants to travel to mars be...             1\n",
              "355263  gamer begins wiki deep dive to catch up on ser...             1\n",
              "355264  mans cell phone disagrees that alexa is listen...             1\n",
              "355265  gamer captures bigfoot at atrocious 1080p reso...             1\n",
              "355266  even conspiracy theorist kinda surprised how r...             1\n",
              "...                                                   ...           ...\n",
              "842482  zuckerberg begins testimony by reminding senat...             1\n",
              "842483  mark zuckerberg emerges from under mans bed to...             1\n",
              "842484  zuckerberg loses contact lens during senate he...             1\n",
              "842485  zuckerberg promises new dating service will re...             1\n",
              "842486  zuckerberg requires house members to accept te...             1\n",
              "\n",
              "[22180 rows x 2 columns]"
            ]
          },
          "metadata": {
            "tags": []
          },
          "execution_count": 32
        }
      ]
    },
    {
      "cell_type": "code",
      "metadata": {
        "colab": {
          "base_uri": "https://localhost:8080/",
          "height": 419
        },
        "id": "Zt-IW3qa3TiY",
        "outputId": "cf2b784e-2f37-4332-8578-fa735aa5c8c6"
      },
      "source": [
        "nosar_data = new_data_train[new_data_train['is_sarcastic'] == 0].head(len(sar_data)) #Lọc các tiêu đề báo chính thống với số lượng bằng số lượng tiêu đề báo châm \n",
        "nosar_data"
      ],
      "execution_count": null,
      "outputs": [
        {
          "output_type": "execute_result",
          "data": {
            "text/html": [
              "<div>\n",
              "<style scoped>\n",
              "    .dataframe tbody tr th:only-of-type {\n",
              "        vertical-align: middle;\n",
              "    }\n",
              "\n",
              "    .dataframe tbody tr th {\n",
              "        vertical-align: top;\n",
              "    }\n",
              "\n",
              "    .dataframe thead th {\n",
              "        text-align: right;\n",
              "    }\n",
              "</style>\n",
              "<table border=\"1\" class=\"dataframe\">\n",
              "  <thead>\n",
              "    <tr style=\"text-align: right;\">\n",
              "      <th></th>\n",
              "      <th>headline</th>\n",
              "      <th>is_sarcastic</th>\n",
              "    </tr>\n",
              "  </thead>\n",
              "  <tbody>\n",
              "    <tr>\n",
              "      <th>0</th>\n",
              "      <td>aston villa match postponed after covid19 outb...</td>\n",
              "      <td>0</td>\n",
              "    </tr>\n",
              "    <tr>\n",
              "      <th>1</th>\n",
              "      <td>antarctic architect hugh broughton wants warm ...</td>\n",
              "      <td>0</td>\n",
              "    </tr>\n",
              "    <tr>\n",
              "      <th>2</th>\n",
              "      <td>argentina captain pablo matera sacked over rac...</td>\n",
              "      <td>0</td>\n",
              "    </tr>\n",
              "    <tr>\n",
              "      <th>3</th>\n",
              "      <td>amazon paintings reveal ice age civilisation</td>\n",
              "      <td>0</td>\n",
              "    </tr>\n",
              "    <tr>\n",
              "      <th>4</th>\n",
              "      <td>autumn as told by a farmer and poet</td>\n",
              "      <td>0</td>\n",
              "    </tr>\n",
              "    <tr>\n",
              "      <th>...</th>\n",
              "      <td>...</td>\n",
              "      <td>...</td>\n",
              "    </tr>\n",
              "    <tr>\n",
              "      <th>22175</th>\n",
              "      <td>tv detector vans truth ray</td>\n",
              "      <td>0</td>\n",
              "    </tr>\n",
              "    <tr>\n",
              "      <th>22176</th>\n",
              "      <td>times sport unseen silvas farewell to england ...</td>\n",
              "      <td>0</td>\n",
              "    </tr>\n",
              "    <tr>\n",
              "      <th>22177</th>\n",
              "      <td>the times view on jimmy lais arrest plucky jim</td>\n",
              "      <td>0</td>\n",
              "    </tr>\n",
              "    <tr>\n",
              "      <th>22178</th>\n",
              "      <td>teen flying machine alphonso davies can down l...</td>\n",
              "      <td>0</td>\n",
              "    </tr>\n",
              "    <tr>\n",
              "      <th>22179</th>\n",
              "      <td>this country team to make period comedy</td>\n",
              "      <td>0</td>\n",
              "    </tr>\n",
              "  </tbody>\n",
              "</table>\n",
              "<p>22180 rows × 2 columns</p>\n",
              "</div>"
            ],
            "text/plain": [
              "                                                headline  is_sarcastic\n",
              "0      aston villa match postponed after covid19 outb...             0\n",
              "1      antarctic architect hugh broughton wants warm ...             0\n",
              "2      argentina captain pablo matera sacked over rac...             0\n",
              "3           amazon paintings reveal ice age civilisation             0\n",
              "4                    autumn as told by a farmer and poet             0\n",
              "...                                                  ...           ...\n",
              "22175                         tv detector vans truth ray             0\n",
              "22176  times sport unseen silvas farewell to england ...             0\n",
              "22177     the times view on jimmy lais arrest plucky jim             0\n",
              "22178  teen flying machine alphonso davies can down l...             0\n",
              "22179            this country team to make period comedy             0\n",
              "\n",
              "[22180 rows x 2 columns]"
            ]
          },
          "metadata": {
            "tags": []
          },
          "execution_count": 33
        }
      ]
    },
    {
      "cell_type": "code",
      "metadata": {
        "id": "Rq7_ycGezgGK"
      },
      "source": [
        "#Các biến để train,\n",
        "new_x_train = pd.concat([sar_data['headline'],nosar_data['headline']])\n",
        "new_y_train = pd.concat([sar_data['is_sarcastic'],nosar_data['is_sarcastic']])\n",
        "x_test, y_test = np.array(new_data_test['headline']), np.array(new_data_test['is_sarcastic'])\n",
        "x_test_NT, y_test_NT= np.array(new_data_test_NT['headline']), np.array(new_data_test_NT['is_sarcastic'])"
      ],
      "execution_count": null,
      "outputs": []
    },
    {
      "cell_type": "code",
      "metadata": {
        "colab": {
          "base_uri": "https://localhost:8080/"
        },
        "id": "akdWOSM55Pfr",
        "outputId": "305c0247-dfbc-44a0-cade-dbd4297f0c92"
      },
      "source": [
        "#Nguồn code tham khảo: https://scikit-learn.org/stable/tutorial/text_analytics/working_with_text_data.html\n",
        "#                      https://towardsdatascience.com/machine-learning-nlp-text-classification-using-scikit-learn-python-and-nltk-c52b92a7c73a\n",
        "from sklearn.feature_extraction.text import CountVectorizer\n",
        "from sklearn.feature_extraction.text import TfidfTransformer\n",
        "from sklearn.naive_bayes import MultinomialNB\n",
        "from sklearn.pipeline import Pipeline\n",
        "import numpy as np\n",
        "\n",
        "text_clf = Pipeline([\n",
        "    ('vect', CountVectorizer()),\n",
        "    ('tfidf', TfidfTransformer()),\n",
        "    ('clf', MultinomialNB()),\n",
        "])\n",
        "\n",
        "text_clf.fit(new_x_train,new_y_train)\n",
        "#predict với data tổng hợp\n",
        "y_predict = text_clf.predict(x_test)\n",
        "\n",
        "#Đo độ chính xác\n",
        "np.mean(y_predict == y_test) \n"
      ],
      "execution_count": null,
      "outputs": [
        {
          "output_type": "execute_result",
          "data": {
            "text/plain": [
              "0.4808708990454065"
            ]
          },
          "metadata": {
            "tags": []
          },
          "execution_count": 35
        }
      ]
    },
    {
      "cell_type": "code",
      "metadata": {
        "colab": {
          "base_uri": "https://localhost:8080/"
        },
        "id": "Eio2jFr85lKG",
        "outputId": "c0b56411-beb1-494b-9a6a-1b14d1a7135f"
      },
      "source": [
        "#predict chỉ với data trang châm biếm NewsThump\n",
        "y_predict_NT = text_clf.predict(x_test_NT)\n",
        "\n",
        "#Đo độ chính xác NT:\n",
        "np.mean(y_predict_NT == y_test_NT)"
      ],
      "execution_count": null,
      "outputs": [
        {
          "output_type": "execute_result",
          "data": {
            "text/plain": [
              "0.5897503285151117"
            ]
          },
          "metadata": {
            "tags": []
          },
          "execution_count": 36
        }
      ]
    },
    {
      "cell_type": "markdown",
      "metadata": {
        "id": "NR9X12qq-F_F"
      },
      "source": [
        "* Thêm công đoạn remove stop words"
      ]
    },
    {
      "cell_type": "code",
      "metadata": {
        "id": "ObP5lue1-bp0"
      },
      "source": [
        "new_x_train_nltk = []\n",
        "for s in new_x_train:\n",
        "  s=str(s)\n",
        "  new_x_train_nltk.append(word_tokenize(s))"
      ],
      "execution_count": null,
      "outputs": []
    },
    {
      "cell_type": "code",
      "metadata": {
        "id": "2UrXPFln-h60"
      },
      "source": [
        "#loại bỏ stop words trong data train:\n",
        "new_filtered_sentence_train = []\n",
        "for words in new_x_train_nltk:\n",
        "  filtered_sentence=[]\n",
        "  for w in words:\n",
        "    if w not in all_stopwords:\n",
        "        filtered_sentence.append(w)\n",
        "  new_filtered_sentence_train.append(filtered_sentence)"
      ],
      "execution_count": null,
      "outputs": []
    },
    {
      "cell_type": "code",
      "metadata": {
        "id": "O7V02tdk-oE7"
      },
      "source": [
        "#Các biến để train, test\n",
        "new_x_train= new_filtered_sentence_train\n",
        "x_test, y_test =  filtered_sentence_test, new_data_test['is_sarcastic']\n",
        "x_test_NT, y_test_NT = filtered_sentence_test_NT, new_data_test_NT['is_sarcastic']"
      ],
      "execution_count": null,
      "outputs": []
    },
    {
      "cell_type": "code",
      "metadata": {
        "id": "LRV1SLZs-tbD"
      },
      "source": [
        "x_train = [\" \".join(x) for x in new_x_train]\n",
        "x_test =[\" \".join(x) for x in x_test]\n",
        "x_test_NT = [\" \".join(x) for x in x_test_NT]"
      ],
      "execution_count": null,
      "outputs": []
    },
    {
      "cell_type": "code",
      "metadata": {
        "colab": {
          "base_uri": "https://localhost:8080/"
        },
        "id": "TxhAmIBz_jsI",
        "outputId": "9918c971-f5d7-4410-d279-3ce7598965f5"
      },
      "source": [
        "#Nguồn code tham khảo: https://scikit-learn.org/stable/tutorial/text_analytics/working_with_text_data.html\n",
        "#                      https://towardsdatascience.com/machine-learning-nlp-text-classification-using-scikit-learn-python-and-nltk-c52b92a7c73a\n",
        "from sklearn.feature_extraction.text import CountVectorizer\n",
        "from sklearn.feature_extraction.text import TfidfTransformer\n",
        "from sklearn.naive_bayes import MultinomialNB\n",
        "from sklearn.pipeline import Pipeline\n",
        "import numpy as np\n",
        "\n",
        "text_clf = Pipeline([\n",
        "    ('vect', CountVectorizer()),\n",
        "    ('tfidf', TfidfTransformer()),\n",
        "    ('clf', MultinomialNB()),\n",
        "])\n",
        "\n",
        "text_clf.fit(x_train,new_y_train)\n",
        "#predict với data tổng hợp\n",
        "y_predict = text_clf.predict(x_test)\n",
        "\n",
        "#Đo độ chính xác\n",
        "np.mean(y_predict == y_test) \n"
      ],
      "execution_count": null,
      "outputs": [
        {
          "output_type": "execute_result",
          "data": {
            "text/plain": [
              "0.5863676301955353"
            ]
          },
          "metadata": {
            "tags": []
          },
          "execution_count": 41
        }
      ]
    },
    {
      "cell_type": "code",
      "metadata": {
        "colab": {
          "base_uri": "https://localhost:8080/"
        },
        "id": "gnfoizMGBmTx",
        "outputId": "81d89f4d-df67-4212-f88c-dfdbec44d9e4"
      },
      "source": [
        "#predict chỉ với data trang châm biếm NewsThump\n",
        "y_predict_NT = text_clf.predict(x_test_NT)\n",
        "\n",
        "#Đo độ chính xác NT:\n",
        "np.mean(y_predict_NT == y_test_NT)"
      ],
      "execution_count": null,
      "outputs": [
        {
          "output_type": "execute_result",
          "data": {
            "text/plain": [
              "0.5553219448094613"
            ]
          },
          "metadata": {
            "tags": []
          },
          "execution_count": 42
        }
      ]
    },
    {
      "cell_type": "markdown",
      "metadata": {
        "id": "ATBmBU7b7bct"
      },
      "source": [
        "# **6.Nhận xét và đánh giá**"
      ]
    },
    {
      "cell_type": "markdown",
      "metadata": {
        "id": "B_9RkrGSvVvc"
      },
      "source": [
        "\n",
        "*   Sau khi nhóm thử thử nghiệm phân loại bằng SGDClassifier và Naive Bayes trước(0) và sau(1) khi remove stop words thì thu được kết quả có độ chính xác: SGDClassifier(0): 94,2912%, SGDClassifier(1): 94,2912%, Naive Bayes(0):  94,2927%, Naive Bayes(1): 94,2942%. Với dataset mà nhóm thu thập được khi test trên 2 trang báo khác, nhìn số liệu trên thì có vẻ kết quả tốt nhưng thực tế do số lượng tiêu đề báo chính thống quá lớn so với tiêu đề báo châm biếm nên model có xu hướng predict ra kết quả là '0'. Mà data dùng để test cũng tương tự vậy, số lượng tiêu đề báo chính thống lớn nên khi predict và đo độ chính xác sẽ ra kết quả như trên.\n",
        "\n",
        "*   Kết quả này tốt khi predict báo chính thống nhưng tệ khi predict báo châm , bằng chứng là khi predict với data trang châm biếm NewThump thì độ chính xác đều gần bằng hoặc bằng 0%.\n",
        "\n",
        "*   Hai model SGDClassifier và Naive Bayes làm việc với text data tốt nhưng Data của các trang chính thống quá lớn so với data của những trang châm biến dẫn đến việc train và dự đoán kết quả không cao. Nhóm đi đến dự đoán rằng các \"từ\" có thể dùng để xác định được trang châm biếm lại xuất hiện nhiều hon ở các tiêu đề báo chính thống do chênh lệch dự liệu quá lớn dẫn tới model predict sai.\n",
        "Ở phần 5 khi train với lượng data nhỏ hơn nhưng cân bằng giữa số tiêu đề châm biếm và chính thống thì model đã có thể predict đúng được hơn 58% số tiêu đề của NewsThump đổi lại thì khi train chung với báo chính thống độ chính xác đã giảm còn khoảng 48% (khi remove stop words thì độ chính xác lần lượt là 58%, 55% )\n",
        "\n",
        "\n"
      ]
    }
  ]
}