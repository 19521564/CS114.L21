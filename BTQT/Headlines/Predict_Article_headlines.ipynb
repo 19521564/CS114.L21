{
  "nbformat": 4,
  "nbformat_minor": 0,
  "metadata": {
    "colab": {
      "name": "Predict_Article_headlines.ipynb",
      "provenance": [],
      "collapsed_sections": []
    },
    "kernelspec": {
      "display_name": "Python 3",
      "name": "python3"
    },
    "language_info": {
      "name": "python"
    }
  },
  "cells": [
    {
      "cell_type": "code",
      "metadata": {
        "id": "Vl-fgdsftJ2a"
      },
      "source": [
        "import numpy as np\n",
        "import pandas as pd"
      ],
      "execution_count": null,
      "outputs": []
    },
    {
      "cell_type": "markdown",
      "metadata": {
        "id": "pO_FZX6SzCiZ"
      },
      "source": [
        "# **1.File train**"
      ]
    },
    {
      "cell_type": "code",
      "metadata": {
        "colab": {
          "base_uri": "https://localhost:8080/"
        },
        "id": "-gcUmnef4PWM",
        "outputId": "4a893282-415b-4c2f-f883-26df384c70e2"
      },
      "source": [
        "#Vì file quá lớn nên nhóm em up lên drive rồi upload lên đây, link drive: https://drive.google.com/file/d/1LPzdw8dvC6m5YgTIy9M3lS52LyvvG7VI/view?usp=sharing\n",
        "!gdown --id 1LPzdw8dvC6m5YgTIy9M3lS52LyvvG7VI\n"
      ],
      "execution_count": null,
      "outputs": [
        {
          "output_type": "stream",
          "text": [
            "Downloading...\n",
            "From: https://drive.google.com/uc?id=1LPzdw8dvC6m5YgTIy9M3lS52LyvvG7VI\n",
            "To: /content/ALL.json\n",
            "173MB [00:01, 170MB/s]\n"
          ],
          "name": "stdout"
        }
      ]
    },
    {
      "cell_type": "code",
      "metadata": {
        "id": "2oUvcFSk_3za"
      },
      "source": [
        "#Tiền xử lý dữ liệu với all.json là file tổng hợp data đã crawl được từ 8 website ở deadline trước \n",
        "f = open(\"ALL.json\", \"r\")\n",
        "for x in f:\n",
        "  # Mỗi dòng định dang lại theo format: *article_link* \" *headline* \" *is_sarcastic*\n",
        "  x=x.replace('article_link', \"\")\n",
        "  x=x.replace('headline', \"\")\n",
        "  x=x.replace('is_sarcastic', \"\")\n",
        "  x=x.replace('\"\": \"', \"\")\n",
        "  x=x.replace('\"\": ', \"\")\n",
        "  x=x.replace('{', \"\")\n",
        "  x=x.replace('}', \"\")\n",
        "  x=x.replace('\",', '\"')\n",
        "  #tạo file train.txt rồi lưu mỗi dòng đã xử lý vào file\n",
        "  fileOutput = \"train.txt\"\n",
        "  f = open(fileOutput, \"a\", encoding=\"utf-8\")\n",
        "  f.writelines(x)\n",
        "  f.close()\n",
        "  "
      ],
      "execution_count": null,
      "outputs": []
    },
    {
      "cell_type": "code",
      "metadata": {
        "colab": {
          "base_uri": "https://localhost:8080/",
          "height": 402
        },
        "id": "VV7U9hpQqrDc",
        "outputId": "2e2b7621-4beb-4c54-a8b5-528a1f708880"
      },
      "source": [
        "# Đọc file CSV\n",
        "data_train = pd.read_csv(\"train.txt\", delimiter='\"', names=['article_link','headline',  'is_sarcastic'])\n",
        "#kiểm tra thông tin của file\n",
        "data_train"
      ],
      "execution_count": null,
      "outputs": [
        {
          "output_type": "execute_result",
          "data": {
            "text/html": [
              "<div>\n",
              "<style scoped>\n",
              "    .dataframe tbody tr th:only-of-type {\n",
              "        vertical-align: middle;\n",
              "    }\n",
              "\n",
              "    .dataframe tbody tr th {\n",
              "        vertical-align: top;\n",
              "    }\n",
              "\n",
              "    .dataframe thead th {\n",
              "        text-align: right;\n",
              "    }\n",
              "</style>\n",
              "<table border=\"1\" class=\"dataframe\">\n",
              "  <thead>\n",
              "    <tr style=\"text-align: right;\">\n",
              "      <th></th>\n",
              "      <th>article_link</th>\n",
              "      <th>headline</th>\n",
              "      <th>is_sarcastic</th>\n",
              "    </tr>\n",
              "  </thead>\n",
              "  <tbody>\n",
              "    <tr>\n",
              "      <th>0</th>\n",
              "      <td>https://www.thetimes.co.uk/article/aston-villa...</td>\n",
              "      <td>aston villa match postponed after covid-19 ou...</td>\n",
              "      <td>0</td>\n",
              "    </tr>\n",
              "    <tr>\n",
              "      <th>1</th>\n",
              "      <td>https://www.thetimes.co.uk/article/antarctic-a...</td>\n",
              "      <td>antarctic architect hugh broughton wants warm...</td>\n",
              "      <td>0</td>\n",
              "    </tr>\n",
              "    <tr>\n",
              "      <th>2</th>\n",
              "      <td>https://www.thetimes.co.uk/article/argentina-c...</td>\n",
              "      <td>argentina captain pablo matera sacked over ra...</td>\n",
              "      <td>0</td>\n",
              "    </tr>\n",
              "    <tr>\n",
              "      <th>3</th>\n",
              "      <td>https://www.thetimes.co.uk/article/amazon-pain...</td>\n",
              "      <td>amazon paintings reveal ice age civilisation</td>\n",
              "      <td>0</td>\n",
              "    </tr>\n",
              "    <tr>\n",
              "      <th>4</th>\n",
              "      <td>https://www.thetimes.co.uk/article/autumn-as-t...</td>\n",
              "      <td>autumn as told by a farmer and poet</td>\n",
              "      <td>0</td>\n",
              "    </tr>\n",
              "    <tr>\n",
              "      <th>...</th>\n",
              "      <td>...</td>\n",
              "      <td>...</td>\n",
              "      <td>...</td>\n",
              "    </tr>\n",
              "    <tr>\n",
              "      <th>842546</th>\n",
              "      <td>https://babylonbee.com/news/zuckerberg-emerges...</td>\n",
              "      <td>mark zuckerberg emerges from under man's bed ...</td>\n",
              "      <td>1</td>\n",
              "    </tr>\n",
              "    <tr>\n",
              "      <th>842547</th>\n",
              "      <td>https://babylonbee.com/news/zuckerberg-loses-c...</td>\n",
              "      <td>zuckerberg loses contact lens during senate h...</td>\n",
              "      <td>1</td>\n",
              "    </tr>\n",
              "    <tr>\n",
              "      <th>842548</th>\n",
              "      <td>https://babylonbee.com/news/zuckerberg-promise...</td>\n",
              "      <td>zuckerberg promises new dating service will r...</td>\n",
              "      <td>1</td>\n",
              "    </tr>\n",
              "    <tr>\n",
              "      <th>842549</th>\n",
              "      <td>https://babylonbee.com/news/zuckerberg-require...</td>\n",
              "      <td>zuckerberg requires house members to accept t...</td>\n",
              "      <td>1</td>\n",
              "    </tr>\n",
              "    <tr>\n",
              "      <th>842550</th>\n",
              "      <td>https://babylonbee.com/news/zuckerberg-vows-to...</td>\n",
              "      <td>zuckerberg vows to keep us elections safe fro...</td>\n",
              "      <td>1</td>\n",
              "    </tr>\n",
              "  </tbody>\n",
              "</table>\n",
              "<p>842551 rows × 3 columns</p>\n",
              "</div>"
            ],
            "text/plain": [
              "                                             article_link  ... is_sarcastic\n",
              "0       https://www.thetimes.co.uk/article/aston-villa...  ...            0\n",
              "1       https://www.thetimes.co.uk/article/antarctic-a...  ...            0\n",
              "2       https://www.thetimes.co.uk/article/argentina-c...  ...            0\n",
              "3       https://www.thetimes.co.uk/article/amazon-pain...  ...            0\n",
              "4       https://www.thetimes.co.uk/article/autumn-as-t...  ...            0\n",
              "...                                                   ...  ...          ...\n",
              "842546  https://babylonbee.com/news/zuckerberg-emerges...  ...            1\n",
              "842547  https://babylonbee.com/news/zuckerberg-loses-c...  ...            1\n",
              "842548  https://babylonbee.com/news/zuckerberg-promise...  ...            1\n",
              "842549  https://babylonbee.com/news/zuckerberg-require...  ...            1\n",
              "842550  https://babylonbee.com/news/zuckerberg-vows-to...  ...            1\n",
              "\n",
              "[842551 rows x 3 columns]"
            ]
          },
          "metadata": {
            "tags": []
          },
          "execution_count": 82
        }
      ]
    },
    {
      "cell_type": "markdown",
      "metadata": {
        "id": "nkSRLYuKPcno"
      },
      "source": [
        "# **2.File test**\n",
        "*   Để quá trình train diễn ra nhanh chóng và thuận tiện, nhóm em đã hỏi ý và xin data nhóm bạn: Cao Đức trí (link github: https://github.com/hauphanlvc/CS114.L21AndCS114.L22.KHCL) để làm data test.\n",
        "*   Data test gồm:\n",
        "    \n",
        "    breitbart(0): 65996 headlines\n",
        "\n",
        "    newthump(1): 3805 headlines\n",
        "\n",
        "\n",
        "\n",
        "\n"
      ]
    },
    {
      "cell_type": "code",
      "metadata": {
        "colab": {
          "base_uri": "https://localhost:8080/"
        },
        "id": "prR_BZmU6ka4",
        "outputId": "e130aaed-b716-4670-9432-f9dadc3141e7"
      },
      "source": [
        "#link drive file tổng hợp 2 trang báo: https://drive.google.com/file/d/1jtl0JpkdVfH402cesMcchrCvmvZTiWzc/view?usp=sharing\n",
        "!gdown --id 1jtl0JpkdVfH402cesMcchrCvmvZTiWzc"
      ],
      "execution_count": null,
      "outputs": [
        {
          "output_type": "stream",
          "text": [
            "Downloading...\n",
            "From: https://drive.google.com/uc?id=1jtl0JpkdVfH402cesMcchrCvmvZTiWzc\n",
            "To: /content/test.json\n",
            "17.3MB [00:00, 65.6MB/s]\n"
          ],
          "name": "stdout"
        }
      ]
    },
    {
      "cell_type": "code",
      "metadata": {
        "id": "J5udpW5oSzUC"
      },
      "source": [
        "f = open(\"test.json\", \"r\")\n",
        "for x in f:\n",
        "  # Mỗi dòng định dang lại theo format: *article_link* \" *headline* \" *is_sarcastic*\n",
        "  x=x.replace('article_link', \"\")\n",
        "  x=x.replace('headline', \"\")\n",
        "  x=x.replace('is_sarcastic', \"\")\n",
        "  x=x.replace('\"\": \"', \"\")\n",
        "  x=x.replace('\"\": ', \"\")\n",
        "  x=x.replace('{', \"\")\n",
        "  x=x.replace('}', \"\")\n",
        "  x=x.replace('\",', '\"')\n",
        "  \n",
        "  #tạo file test.txt rồi lưu mỗi dòng đã xử lý vào file\n",
        "  fileOutput = \"test.txt\"\n",
        "  f = open(fileOutput, \"a\", encoding=\"utf-8\")\n",
        "  f.writelines(x)\n",
        "  f.close()\n",
        "  "
      ],
      "execution_count": null,
      "outputs": []
    },
    {
      "cell_type": "code",
      "metadata": {
        "colab": {
          "base_uri": "https://localhost:8080/",
          "height": 402
        },
        "id": "6wBaAd1ga-8Q",
        "outputId": "2bc16623-6e15-4fc0-9336-e8343329ad82"
      },
      "source": [
        "# Đọc file CSV\n",
        "data_test = pd.read_csv(\"test.txt\", delimiter='\"', names=['article_link','headline',  'is_sarcastic'])\n",
        "#kiểm tra thông tin của file\n",
        "data_test"
      ],
      "execution_count": null,
      "outputs": [
        {
          "output_type": "execute_result",
          "data": {
            "text/html": [
              "<div>\n",
              "<style scoped>\n",
              "    .dataframe tbody tr th:only-of-type {\n",
              "        vertical-align: middle;\n",
              "    }\n",
              "\n",
              "    .dataframe tbody tr th {\n",
              "        vertical-align: top;\n",
              "    }\n",
              "\n",
              "    .dataframe thead th {\n",
              "        text-align: right;\n",
              "    }\n",
              "</style>\n",
              "<table border=\"1\" class=\"dataframe\">\n",
              "  <thead>\n",
              "    <tr style=\"text-align: right;\">\n",
              "      <th></th>\n",
              "      <th>article_link</th>\n",
              "      <th>headline</th>\n",
              "      <th>is_sarcastic</th>\n",
              "    </tr>\n",
              "  </thead>\n",
              "  <tbody>\n",
              "    <tr>\n",
              "      <th>0</th>\n",
              "      <td>https://www.breitbart.com/europe/2021/06/12/wa...</td>\n",
              "      <td>WATCH: French Far-Left Leader Doused with Flo...</td>\n",
              "      <td>0</td>\n",
              "    </tr>\n",
              "    <tr>\n",
              "      <th>1</th>\n",
              "      <td>https://www.breitbart.com/sports/2021/06/12/l-...</td>\n",
              "      <td>L.A. Super Bowl Host Committee Gives Grant to...</td>\n",
              "      <td>0</td>\n",
              "    </tr>\n",
              "    <tr>\n",
              "      <th>2</th>\n",
              "      <td>https://www.breitbart.com/politics/2021/06/12/...</td>\n",
              "      <td>PA Falling Short of 70% Fully Vaccinated, Mas...</td>\n",
              "      <td>0</td>\n",
              "    </tr>\n",
              "    <tr>\n",
              "      <th>3</th>\n",
              "      <td>https://www.breitbart.com/politics/2021/06/12/...</td>\n",
              "      <td>CDC: 42.6% of U.S. Adults Are 'Fully Vaccinated'</td>\n",
              "      <td>0</td>\n",
              "    </tr>\n",
              "    <tr>\n",
              "      <th>4</th>\n",
              "      <td>https://www.breitbart.com/border/2021/06/12/10...</td>\n",
              "      <td>100 Migrants Found in Stash House near Border...</td>\n",
              "      <td>0</td>\n",
              "    </tr>\n",
              "    <tr>\n",
              "      <th>...</th>\n",
              "      <td>...</td>\n",
              "      <td>...</td>\n",
              "      <td>...</td>\n",
              "    </tr>\n",
              "    <tr>\n",
              "      <th>67137</th>\n",
              "      <td>https://newsthump.com/2019/10/03/climate-chang...</td>\n",
              "      <td>climate change \\u2018written off as a hoax\\u2...</td>\n",
              "      <td>1</td>\n",
              "    </tr>\n",
              "    <tr>\n",
              "      <th>67138</th>\n",
              "      <td>https://newsthump.com/2019/06/07/tory-leadersh...</td>\n",
              "      <td>tory leadership contest to introduce swimsuit...</td>\n",
              "      <td>1</td>\n",
              "    </tr>\n",
              "    <tr>\n",
              "      <th>67139</th>\n",
              "      <td>https://newsthump.com/2019/03/21/im-on-your-si...</td>\n",
              "      <td>\\u201ci\\u2019m on your side\\u201d insists wom...</td>\n",
              "      <td>1</td>\n",
              "    </tr>\n",
              "    <tr>\n",
              "      <th>67140</th>\n",
              "      <td>https://newsthump.com/2019/12/18/whirlpools-ne...</td>\n",
              "      <td>whirlpool\\u2019s new christmas advert shows f...</td>\n",
              "      <td>1</td>\n",
              "    </tr>\n",
              "    <tr>\n",
              "      <th>67141</th>\n",
              "      <td>https://newsthump.com/2019/06/22/boris-johnson...</td>\n",
              "      <td>boris johnson wakes from massive bender hopin...</td>\n",
              "      <td>1</td>\n",
              "    </tr>\n",
              "  </tbody>\n",
              "</table>\n",
              "<p>67142 rows × 3 columns</p>\n",
              "</div>"
            ],
            "text/plain": [
              "                                            article_link  ... is_sarcastic\n",
              "0      https://www.breitbart.com/europe/2021/06/12/wa...  ...            0\n",
              "1      https://www.breitbart.com/sports/2021/06/12/l-...  ...            0\n",
              "2      https://www.breitbart.com/politics/2021/06/12/...  ...            0\n",
              "3      https://www.breitbart.com/politics/2021/06/12/...  ...            0\n",
              "4      https://www.breitbart.com/border/2021/06/12/10...  ...            0\n",
              "...                                                  ...  ...          ...\n",
              "67137  https://newsthump.com/2019/10/03/climate-chang...  ...            1\n",
              "67138  https://newsthump.com/2019/06/07/tory-leadersh...  ...            1\n",
              "67139  https://newsthump.com/2019/03/21/im-on-your-si...  ...            1\n",
              "67140  https://newsthump.com/2019/12/18/whirlpools-ne...  ...            1\n",
              "67141  https://newsthump.com/2019/06/22/boris-johnson...  ...            1\n",
              "\n",
              "[67142 rows x 3 columns]"
            ]
          },
          "metadata": {
            "tags": []
          },
          "execution_count": 85
        }
      ]
    },
    {
      "cell_type": "code",
      "metadata": {
        "id": "RKyLDwUTv8uL"
      },
      "source": [
        "# link drive của file trang châm biến newsthump: https://drive.google.com/file/d/1ZqSwqFUKrCHQbLwpSvzLtAku3m8j_IWg/view?usp=sharing"
      ],
      "execution_count": null,
      "outputs": []
    },
    {
      "cell_type": "code",
      "metadata": {
        "colab": {
          "base_uri": "https://localhost:8080/"
        },
        "id": "ghbxX0JWwkv3",
        "outputId": "0ea1331c-7dd4-4fd1-daac-aef146b51742"
      },
      "source": [
        "!gdown --id 1ZqSwqFUKrCHQbLwpSvzLtAku3m8j_IWg"
      ],
      "execution_count": null,
      "outputs": [
        {
          "output_type": "stream",
          "text": [
            "Downloading...\n",
            "From: https://drive.google.com/uc?id=1ZqSwqFUKrCHQbLwpSvzLtAku3m8j_IWg\n",
            "To: /content/NewsThump.json\n",
            "\r  0% 0.00/975k [00:00<?, ?B/s]\r100% 975k/975k [00:00<00:00, 64.2MB/s]\n"
          ],
          "name": "stdout"
        }
      ]
    },
    {
      "cell_type": "code",
      "metadata": {
        "id": "e9Hr_jmow5qB"
      },
      "source": [
        "f = open(\"NewsThump.json\", \"r\")\n",
        "for x in f:\n",
        "  # Mỗi dòng định dang lại theo format: *article_link* \" *headline* \" *is_sarcastic*\n",
        "  x=x.replace('article_link', \"\")\n",
        "  x=x.replace('headline', \"\")\n",
        "  x=x.replace('is_sarcastic', \"\")\n",
        "  x=x.replace('\"\": \"', \"\")\n",
        "  x=x.replace('\"\": ', \"\")\n",
        "  x=x.replace('{', \"\")\n",
        "  x=x.replace('}', \"\")\n",
        "  x=x.replace('\",', '\"')\n",
        "  \n",
        "  #tạo file NewsThumptest.txt rồi lưu mỗi dòng đã xử lý vào file\n",
        "  fileOutput = \"NewsThumptest.txt\"\n",
        "  f = open(fileOutput, \"a\", encoding=\"utf-8\")\n",
        "  f.writelines(x)\n",
        "  f.close()"
      ],
      "execution_count": null,
      "outputs": []
    },
    {
      "cell_type": "code",
      "metadata": {
        "colab": {
          "base_uri": "https://localhost:8080/",
          "height": 402
        },
        "id": "793TX-m7xK7t",
        "outputId": "006452aa-1e9a-488d-9db0-a5f64e7d6198"
      },
      "source": [
        "# Đọc file CSV\n",
        "data_test_NT = pd.read_csv(\"NewsThumptest.txt\", delimiter='\"', names=['article_link','headline',  'is_sarcastic'])\n",
        "#kiểm tra thông tin của file\n",
        "data_test_NT"
      ],
      "execution_count": null,
      "outputs": [
        {
          "output_type": "execute_result",
          "data": {
            "text/html": [
              "<div>\n",
              "<style scoped>\n",
              "    .dataframe tbody tr th:only-of-type {\n",
              "        vertical-align: middle;\n",
              "    }\n",
              "\n",
              "    .dataframe tbody tr th {\n",
              "        vertical-align: top;\n",
              "    }\n",
              "\n",
              "    .dataframe thead th {\n",
              "        text-align: right;\n",
              "    }\n",
              "</style>\n",
              "<table border=\"1\" class=\"dataframe\">\n",
              "  <thead>\n",
              "    <tr style=\"text-align: right;\">\n",
              "      <th></th>\n",
              "      <th>article_link</th>\n",
              "      <th>headline</th>\n",
              "      <th>is_sarcastic</th>\n",
              "    </tr>\n",
              "  </thead>\n",
              "  <tbody>\n",
              "    <tr>\n",
              "      <th>0</th>\n",
              "      <td>https://newsthump.com/2021/04/30/larry-the-cat...</td>\n",
              "      <td>larry the cat already scratched the shit out ...</td>\n",
              "      <td>1</td>\n",
              "    </tr>\n",
              "    <tr>\n",
              "      <th>1</th>\n",
              "      <td>https://newsthump.com/2021/04/19/queen-and-oth...</td>\n",
              "      <td>queen and other top monarchs to break away an...</td>\n",
              "      <td>1</td>\n",
              "    </tr>\n",
              "    <tr>\n",
              "      <th>2</th>\n",
              "      <td>https://newsthump.com/2020/02/13/boris-johnson...</td>\n",
              "      <td>boris johnson unveils new look cabinet</td>\n",
              "      <td>1</td>\n",
              "    </tr>\n",
              "    <tr>\n",
              "      <th>3</th>\n",
              "      <td>https://newsthump.com/2020/02/01/britain-alrea...</td>\n",
              "      <td>britain already 36% more british since leavin...</td>\n",
              "      <td>1</td>\n",
              "    </tr>\n",
              "    <tr>\n",
              "      <th>4</th>\n",
              "      <td>https://newsthump.com/2019/08/28/queen-brillia...</td>\n",
              "      <td>queen brilliantly steers attention away from ...</td>\n",
              "      <td>1</td>\n",
              "    </tr>\n",
              "    <tr>\n",
              "      <th>...</th>\n",
              "      <td>...</td>\n",
              "      <td>...</td>\n",
              "      <td>...</td>\n",
              "    </tr>\n",
              "    <tr>\n",
              "      <th>3800</th>\n",
              "      <td>https://newsthump.com/2019/10/03/climate-chang...</td>\n",
              "      <td>climate change \\u2018written off as a hoax\\u2...</td>\n",
              "      <td>1</td>\n",
              "    </tr>\n",
              "    <tr>\n",
              "      <th>3801</th>\n",
              "      <td>https://newsthump.com/2019/06/07/tory-leadersh...</td>\n",
              "      <td>tory leadership contest to introduce swimsuit...</td>\n",
              "      <td>1</td>\n",
              "    </tr>\n",
              "    <tr>\n",
              "      <th>3802</th>\n",
              "      <td>https://newsthump.com/2019/03/21/im-on-your-si...</td>\n",
              "      <td>\\u201ci\\u2019m on your side\\u201d insists wom...</td>\n",
              "      <td>1</td>\n",
              "    </tr>\n",
              "    <tr>\n",
              "      <th>3803</th>\n",
              "      <td>https://newsthump.com/2019/12/18/whirlpools-ne...</td>\n",
              "      <td>whirlpool\\u2019s new christmas advert shows f...</td>\n",
              "      <td>1</td>\n",
              "    </tr>\n",
              "    <tr>\n",
              "      <th>3804</th>\n",
              "      <td>https://newsthump.com/2019/06/22/boris-johnson...</td>\n",
              "      <td>boris johnson wakes from massive bender hopin...</td>\n",
              "      <td>1</td>\n",
              "    </tr>\n",
              "  </tbody>\n",
              "</table>\n",
              "<p>3805 rows × 3 columns</p>\n",
              "</div>"
            ],
            "text/plain": [
              "                                           article_link  ... is_sarcastic\n",
              "0     https://newsthump.com/2021/04/30/larry-the-cat...  ...            1\n",
              "1     https://newsthump.com/2021/04/19/queen-and-oth...  ...            1\n",
              "2     https://newsthump.com/2020/02/13/boris-johnson...  ...            1\n",
              "3     https://newsthump.com/2020/02/01/britain-alrea...  ...            1\n",
              "4     https://newsthump.com/2019/08/28/queen-brillia...  ...            1\n",
              "...                                                 ...  ...          ...\n",
              "3800  https://newsthump.com/2019/10/03/climate-chang...  ...            1\n",
              "3801  https://newsthump.com/2019/06/07/tory-leadersh...  ...            1\n",
              "3802  https://newsthump.com/2019/03/21/im-on-your-si...  ...            1\n",
              "3803  https://newsthump.com/2019/12/18/whirlpools-ne...  ...            1\n",
              "3804  https://newsthump.com/2019/06/22/boris-johnson...  ...            1\n",
              "\n",
              "[3805 rows x 3 columns]"
            ]
          },
          "metadata": {
            "tags": []
          },
          "execution_count": 89
        }
      ]
    },
    {
      "cell_type": "code",
      "metadata": {
        "id": "Y9oHj-13bZ53"
      },
      "source": [
        "# Data train\n",
        "#Xóa dòng có giá trị NaN xa khỏi data\n",
        "data_train = data_train.dropna(how = 'any')\n",
        "# Lấy 2 cột cần thiết là headline và is_sarcastic\n",
        "new_data_train = data_train.copy()\n",
        "new_data_train = new_data_train[['headline', 'is_sarcastic']]\n",
        "\n",
        "# Data test\n",
        "#Xóa dòng có giá trị NaN xa khỏi data\n",
        "data_test = data_test.dropna(how = 'any')\n",
        "# Lấy 2 cột cần thiết là headline và is_sarcastic\n",
        "new_data_test = data_test.copy()\n",
        "new_data_test = new_data_test[['headline', 'is_sarcastic']]\n",
        "\n",
        "# Data test NewsThump\n",
        "#Xóa dòng có giá trị NaN xa khỏi data\n",
        "data_test_NT = data_test_NT.dropna(how = 'any')\n",
        "# Lấy 2 cột cần thiết là headline và is_sarcastic\n",
        "new_data_test_NT = data_test_NT.copy()\n",
        "new_data_test_NT = new_data_test_NT[['headline', 'is_sarcastic']]\n"
      ],
      "execution_count": null,
      "outputs": []
    },
    {
      "cell_type": "code",
      "metadata": {
        "colab": {
          "base_uri": "https://localhost:8080/",
          "height": 402
        },
        "id": "kCJLlUcYcjIb",
        "outputId": "3d9c8356-0261-4054-e832-c2484e13c7f2"
      },
      "source": [
        "import re \n",
        "def format(x):\n",
        "    #chuyển tất cả sang string\n",
        "    x=str(x)\n",
        "    # Loại bỏ các kí tự khác 0 - 9, a - z và khoảng cách\n",
        "    x = re.sub(\"[^0-9a-z ]\", '', x)\n",
        "    return x\n",
        "new_data_train['headline'] = new_data_train['headline'].apply(format)\n",
        "\n",
        "new_data_train"
      ],
      "execution_count": null,
      "outputs": [
        {
          "output_type": "execute_result",
          "data": {
            "text/html": [
              "<div>\n",
              "<style scoped>\n",
              "    .dataframe tbody tr th:only-of-type {\n",
              "        vertical-align: middle;\n",
              "    }\n",
              "\n",
              "    .dataframe tbody tr th {\n",
              "        vertical-align: top;\n",
              "    }\n",
              "\n",
              "    .dataframe thead th {\n",
              "        text-align: right;\n",
              "    }\n",
              "</style>\n",
              "<table border=\"1\" class=\"dataframe\">\n",
              "  <thead>\n",
              "    <tr style=\"text-align: right;\">\n",
              "      <th></th>\n",
              "      <th>headline</th>\n",
              "      <th>is_sarcastic</th>\n",
              "    </tr>\n",
              "  </thead>\n",
              "  <tbody>\n",
              "    <tr>\n",
              "      <th>0</th>\n",
              "      <td>aston villa match postponed after covid19 out...</td>\n",
              "      <td>0</td>\n",
              "    </tr>\n",
              "    <tr>\n",
              "      <th>1</th>\n",
              "      <td>antarctic architect hugh broughton wants warm...</td>\n",
              "      <td>0</td>\n",
              "    </tr>\n",
              "    <tr>\n",
              "      <th>2</th>\n",
              "      <td>argentina captain pablo matera sacked over ra...</td>\n",
              "      <td>0</td>\n",
              "    </tr>\n",
              "    <tr>\n",
              "      <th>3</th>\n",
              "      <td>amazon paintings reveal ice age civilisation</td>\n",
              "      <td>0</td>\n",
              "    </tr>\n",
              "    <tr>\n",
              "      <th>4</th>\n",
              "      <td>autumn as told by a farmer and poet</td>\n",
              "      <td>0</td>\n",
              "    </tr>\n",
              "    <tr>\n",
              "      <th>...</th>\n",
              "      <td>...</td>\n",
              "      <td>...</td>\n",
              "    </tr>\n",
              "    <tr>\n",
              "      <th>842546</th>\n",
              "      <td>mark zuckerberg emerges from under mans bed t...</td>\n",
              "      <td>1</td>\n",
              "    </tr>\n",
              "    <tr>\n",
              "      <th>842547</th>\n",
              "      <td>zuckerberg loses contact lens during senate h...</td>\n",
              "      <td>1</td>\n",
              "    </tr>\n",
              "    <tr>\n",
              "      <th>842548</th>\n",
              "      <td>zuckerberg promises new dating service will r...</td>\n",
              "      <td>1</td>\n",
              "    </tr>\n",
              "    <tr>\n",
              "      <th>842549</th>\n",
              "      <td>zuckerberg requires house members to accept t...</td>\n",
              "      <td>1</td>\n",
              "    </tr>\n",
              "    <tr>\n",
              "      <th>842550</th>\n",
              "      <td>zuckerberg vows to keep us elections safe fro...</td>\n",
              "      <td>1</td>\n",
              "    </tr>\n",
              "  </tbody>\n",
              "</table>\n",
              "<p>842424 rows × 2 columns</p>\n",
              "</div>"
            ],
            "text/plain": [
              "                                                 headline is_sarcastic\n",
              "0        aston villa match postponed after covid19 out...            0\n",
              "1        antarctic architect hugh broughton wants warm...            0\n",
              "2        argentina captain pablo matera sacked over ra...            0\n",
              "3            amazon paintings reveal ice age civilisation            0\n",
              "4                     autumn as told by a farmer and poet            0\n",
              "...                                                   ...          ...\n",
              "842546   mark zuckerberg emerges from under mans bed t...            1\n",
              "842547   zuckerberg loses contact lens during senate h...            1\n",
              "842548   zuckerberg promises new dating service will r...            1\n",
              "842549   zuckerberg requires house members to accept t...            1\n",
              "842550   zuckerberg vows to keep us elections safe fro...            1\n",
              "\n",
              "[842424 rows x 2 columns]"
            ]
          },
          "metadata": {
            "tags": []
          },
          "execution_count": 91
        }
      ]
    },
    {
      "cell_type": "code",
      "metadata": {
        "colab": {
          "base_uri": "https://localhost:8080/",
          "height": 402
        },
        "id": "5Ykqo6JJcmC-",
        "outputId": "12be93fe-d77a-412d-9ab5-dcccbf401f13"
      },
      "source": [
        "def format(x):\n",
        "    #chuyển tất cả sang string\n",
        "    x=str(x)\n",
        "    # Chuyển sang kí tự chữ thường\n",
        "    x = x.lower()\n",
        "    # Loại bỏ các kí tự khác 0 - 9, a - z và khoảng cách\n",
        "    x = re.sub(\"[^0-9a-z ]\", '', x)\n",
        "    return x\n",
        "new_data_test['headline'] = new_data_test['headline'].apply(format)\n",
        "\n",
        "new_data_test"
      ],
      "execution_count": null,
      "outputs": [
        {
          "output_type": "execute_result",
          "data": {
            "text/html": [
              "<div>\n",
              "<style scoped>\n",
              "    .dataframe tbody tr th:only-of-type {\n",
              "        vertical-align: middle;\n",
              "    }\n",
              "\n",
              "    .dataframe tbody tr th {\n",
              "        vertical-align: top;\n",
              "    }\n",
              "\n",
              "    .dataframe thead th {\n",
              "        text-align: right;\n",
              "    }\n",
              "</style>\n",
              "<table border=\"1\" class=\"dataframe\">\n",
              "  <thead>\n",
              "    <tr style=\"text-align: right;\">\n",
              "      <th></th>\n",
              "      <th>headline</th>\n",
              "      <th>is_sarcastic</th>\n",
              "    </tr>\n",
              "  </thead>\n",
              "  <tbody>\n",
              "    <tr>\n",
              "      <th>0</th>\n",
              "      <td>watch french farleft leader doused with flour...</td>\n",
              "      <td>0</td>\n",
              "    </tr>\n",
              "    <tr>\n",
              "      <th>1</th>\n",
              "      <td>la super bowl host committee gives grant to a...</td>\n",
              "      <td>0</td>\n",
              "    </tr>\n",
              "    <tr>\n",
              "      <th>2</th>\n",
              "      <td>pa falling short of 70 fully vaccinated mask ...</td>\n",
              "      <td>0</td>\n",
              "    </tr>\n",
              "    <tr>\n",
              "      <th>3</th>\n",
              "      <td>cdc 426 of us adults are fully vaccinated</td>\n",
              "      <td>0</td>\n",
              "    </tr>\n",
              "    <tr>\n",
              "      <th>4</th>\n",
              "      <td>100 migrants found in stash house near border...</td>\n",
              "      <td>0</td>\n",
              "    </tr>\n",
              "    <tr>\n",
              "      <th>...</th>\n",
              "      <td>...</td>\n",
              "      <td>...</td>\n",
              "    </tr>\n",
              "    <tr>\n",
              "      <th>67137</th>\n",
              "      <td>climate change u2018written off as a hoaxu201...</td>\n",
              "      <td>1</td>\n",
              "    </tr>\n",
              "    <tr>\n",
              "      <th>67138</th>\n",
              "      <td>tory leadership contest to introduce swimsuit...</td>\n",
              "      <td>1</td>\n",
              "    </tr>\n",
              "    <tr>\n",
              "      <th>67139</th>\n",
              "      <td>u201ciu2019m on your sideu201d insists woman ...</td>\n",
              "      <td>1</td>\n",
              "    </tr>\n",
              "    <tr>\n",
              "      <th>67140</th>\n",
              "      <td>whirlpoolu2019s new christmas advert shows fa...</td>\n",
              "      <td>1</td>\n",
              "    </tr>\n",
              "    <tr>\n",
              "      <th>67141</th>\n",
              "      <td>boris johnson wakes from massive bender hopin...</td>\n",
              "      <td>1</td>\n",
              "    </tr>\n",
              "  </tbody>\n",
              "</table>\n",
              "<p>67142 rows × 2 columns</p>\n",
              "</div>"
            ],
            "text/plain": [
              "                                                headline is_sarcastic\n",
              "0       watch french farleft leader doused with flour...            0\n",
              "1       la super bowl host committee gives grant to a...            0\n",
              "2       pa falling short of 70 fully vaccinated mask ...            0\n",
              "3              cdc 426 of us adults are fully vaccinated            0\n",
              "4       100 migrants found in stash house near border...            0\n",
              "...                                                  ...          ...\n",
              "67137   climate change u2018written off as a hoaxu201...            1\n",
              "67138   tory leadership contest to introduce swimsuit...            1\n",
              "67139   u201ciu2019m on your sideu201d insists woman ...            1\n",
              "67140   whirlpoolu2019s new christmas advert shows fa...            1\n",
              "67141   boris johnson wakes from massive bender hopin...            1\n",
              "\n",
              "[67142 rows x 2 columns]"
            ]
          },
          "metadata": {
            "tags": []
          },
          "execution_count": 92
        }
      ]
    },
    {
      "cell_type": "code",
      "metadata": {
        "colab": {
          "base_uri": "https://localhost:8080/",
          "height": 402
        },
        "id": "y5kwc8vd3P43",
        "outputId": "e84f5e1d-1fba-45ac-be48-63e948355c09"
      },
      "source": [
        "def format(x):\n",
        "    #chuyển tất cả sang string\n",
        "    x=str(x)\n",
        "    # Chuyển sang kí tự chữ thường\n",
        "    x = x.lower()\n",
        "    # Loại bỏ các kí tự khác 0 - 9, a - z và khoảng cách\n",
        "    x = re.sub(\"[^0-9a-z ]\", '', x)\n",
        "    return x\n",
        "new_data_test_NT['headline'] = new_data_test_NT['headline'].apply(format)\n",
        "\n",
        "new_data_test_NT"
      ],
      "execution_count": null,
      "outputs": [
        {
          "output_type": "execute_result",
          "data": {
            "text/html": [
              "<div>\n",
              "<style scoped>\n",
              "    .dataframe tbody tr th:only-of-type {\n",
              "        vertical-align: middle;\n",
              "    }\n",
              "\n",
              "    .dataframe tbody tr th {\n",
              "        vertical-align: top;\n",
              "    }\n",
              "\n",
              "    .dataframe thead th {\n",
              "        text-align: right;\n",
              "    }\n",
              "</style>\n",
              "<table border=\"1\" class=\"dataframe\">\n",
              "  <thead>\n",
              "    <tr style=\"text-align: right;\">\n",
              "      <th></th>\n",
              "      <th>headline</th>\n",
              "      <th>is_sarcastic</th>\n",
              "    </tr>\n",
              "  </thead>\n",
              "  <tbody>\n",
              "    <tr>\n",
              "      <th>0</th>\n",
              "      <td>larry the cat already scratched the shit out ...</td>\n",
              "      <td>1</td>\n",
              "    </tr>\n",
              "    <tr>\n",
              "      <th>1</th>\n",
              "      <td>queen and other top monarchs to break away an...</td>\n",
              "      <td>1</td>\n",
              "    </tr>\n",
              "    <tr>\n",
              "      <th>2</th>\n",
              "      <td>boris johnson unveils new look cabinet</td>\n",
              "      <td>1</td>\n",
              "    </tr>\n",
              "    <tr>\n",
              "      <th>3</th>\n",
              "      <td>britain already 36 more british since leaving...</td>\n",
              "      <td>1</td>\n",
              "    </tr>\n",
              "    <tr>\n",
              "      <th>4</th>\n",
              "      <td>queen brilliantly steers attention away from ...</td>\n",
              "      <td>1</td>\n",
              "    </tr>\n",
              "    <tr>\n",
              "      <th>...</th>\n",
              "      <td>...</td>\n",
              "      <td>...</td>\n",
              "    </tr>\n",
              "    <tr>\n",
              "      <th>3800</th>\n",
              "      <td>climate change u2018written off as a hoaxu201...</td>\n",
              "      <td>1</td>\n",
              "    </tr>\n",
              "    <tr>\n",
              "      <th>3801</th>\n",
              "      <td>tory leadership contest to introduce swimsuit...</td>\n",
              "      <td>1</td>\n",
              "    </tr>\n",
              "    <tr>\n",
              "      <th>3802</th>\n",
              "      <td>u201ciu2019m on your sideu201d insists woman ...</td>\n",
              "      <td>1</td>\n",
              "    </tr>\n",
              "    <tr>\n",
              "      <th>3803</th>\n",
              "      <td>whirlpoolu2019s new christmas advert shows fa...</td>\n",
              "      <td>1</td>\n",
              "    </tr>\n",
              "    <tr>\n",
              "      <th>3804</th>\n",
              "      <td>boris johnson wakes from massive bender hopin...</td>\n",
              "      <td>1</td>\n",
              "    </tr>\n",
              "  </tbody>\n",
              "</table>\n",
              "<p>3805 rows × 2 columns</p>\n",
              "</div>"
            ],
            "text/plain": [
              "                                               headline  is_sarcastic\n",
              "0      larry the cat already scratched the shit out ...             1\n",
              "1      queen and other top monarchs to break away an...             1\n",
              "2                boris johnson unveils new look cabinet             1\n",
              "3      britain already 36 more british since leaving...             1\n",
              "4      queen brilliantly steers attention away from ...             1\n",
              "...                                                 ...           ...\n",
              "3800   climate change u2018written off as a hoaxu201...             1\n",
              "3801   tory leadership contest to introduce swimsuit...             1\n",
              "3802   u201ciu2019m on your sideu201d insists woman ...             1\n",
              "3803   whirlpoolu2019s new christmas advert shows fa...             1\n",
              "3804   boris johnson wakes from massive bender hopin...             1\n",
              "\n",
              "[3805 rows x 2 columns]"
            ]
          },
          "metadata": {
            "tags": []
          },
          "execution_count": 93
        }
      ]
    },
    {
      "cell_type": "markdown",
      "metadata": {
        "id": "440hRCGj3C8Y"
      },
      "source": [
        "# **3.Removing stop words with NLTK in Python**\n"
      ]
    },
    {
      "cell_type": "code",
      "metadata": {
        "colab": {
          "base_uri": "https://localhost:8080/"
        },
        "id": "t8m8N8ZvcqoL",
        "outputId": "6a65f5c3-a465-4456-9963-ef3266fe5523"
      },
      "source": [
        "#Nguồn tham khảo: https://www.geeksforgeeks.org/removing-stop-words-nltk-python/\n",
        "import nltk \n",
        "nltk.download('punkt')\n",
        "from nltk.tokenize import word_tokenize\n",
        "nltk.download(\"stopwords\")\n",
        "from nltk.corpus import stopwords\n",
        "x_train_nltk = []\n",
        "for s in new_data_train['headline']:\n",
        "  s=str(s)\n",
        "  x_train_nltk.append(word_tokenize(s))\n",
        "\n",
        "x_test_nltk = []\n",
        "for s in new_data_test['headline']:\n",
        "  s=str(s)\n",
        "  x_test_nltk.append(word_tokenize(s))\n",
        "\n",
        "x_test_NT_nltk = []\n",
        "for s in new_data_test_NT['headline']:\n",
        "  s=str(s)\n",
        "  x_test_NT_nltk.append(word_tokenize(s))"
      ],
      "execution_count": null,
      "outputs": [
        {
          "output_type": "stream",
          "text": [
            "[nltk_data] Downloading package punkt to /root/nltk_data...\n",
            "[nltk_data]   Package punkt is already up-to-date!\n",
            "[nltk_data] Downloading package stopwords to /root/nltk_data...\n",
            "[nltk_data]   Package stopwords is already up-to-date!\n"
          ],
          "name": "stdout"
        }
      ]
    },
    {
      "cell_type": "code",
      "metadata": {
        "colab": {
          "base_uri": "https://localhost:8080/"
        },
        "id": "QF4Fm8Xx-hbF",
        "outputId": "1348e8ea-8278-4bab-bf8a-befaccc5564d"
      },
      "source": [
        "#danh sách tất cả stop words\n",
        "all_stopwords=set(stopwords.words('english'))\n",
        "print(all_stopwords)\n",
        "print(len(all_stopwords))"
      ],
      "execution_count": null,
      "outputs": [
        {
          "output_type": "stream",
          "text": [
            "{'about', \"it's\", 'it', 'aren', 'hadn', 'don', 'here', 'her', \"you'll\", 'who', 'how', 'of', 'after', 'from', 'have', 'such', 'our', \"couldn't\", 'be', 'an', 'below', 'i', 'other', 'ours', 'just', 'has', 'o', 'his', 'each', 'whom', \"wouldn't\", 'those', 'to', \"won't\", 'now', 'm', 'once', 'than', 'herself', 'were', 'only', 'their', 'am', 'won', 'nor', \"didn't\", 'theirs', 'above', 'me', 'yourself', \"should've\", 'no', 'my', 'ourselves', 'against', \"isn't\", 'through', 'when', 'him', 'by', 'as', 'some', 'most', 'the', 'should', 'wasn', 'this', 'she', 'your', \"that'll\", 'until', 'do', 'doesn', 'll', 'there', \"hasn't\", 'y', 'yourselves', 'shouldn', 'in', 'itself', 'wouldn', 'between', 'any', \"mustn't\", 'been', 't', \"needn't\", 'at', 'being', 'having', 'few', 'and', 'same', 'a', 'very', \"she's\", 'haven', 'are', 'you', 'both', 'them', 'more', 'during', 'mightn', 'needn', \"mightn't\", 'which', 'did', \"doesn't\", 'themselves', \"wasn't\", 'further', 'while', \"weren't\", 'had', 'isn', 'down', 'so', 'd', \"you'd\", 'didn', 'he', 's', 'will', 'doing', 'too', 'if', 'couldn', 'they', 'all', 'over', 'yours', 'hasn', \"haven't\", 'mustn', 'up', \"don't\", 'that', 've', \"shan't\", 'for', 'before', 'out', 'what', 'myself', 'with', 'again', 'we', 'not', 'off', 'was', 'does', 'ain', 'because', 'is', 'weren', 'shan', 'then', \"shouldn't\", 'can', 're', 'why', 'hers', 'its', 'under', \"you're\", 'or', 'ma', 'own', 'where', \"you've\", 'himself', 'on', \"aren't\", \"hadn't\", 'into', 'these', 'but'}\n",
            "179\n"
          ],
          "name": "stdout"
        }
      ]
    },
    {
      "cell_type": "code",
      "metadata": {
        "id": "NA-p8h70_1lL"
      },
      "source": [
        "#loại bỏ stop words trong data train:\n",
        "filtered_sentence_train = []\n",
        "for words in x_train_nltk:\n",
        "  filtered_sentence=[]\n",
        "  for w in words:\n",
        "    if w not in all_stopwords:\n",
        "        filtered_sentence.append(w)\n",
        "  filtered_sentence_train.append(filtered_sentence)\n",
        "#loại bỏ stop words trong data test:\n",
        "filtered_sentence_test = []\n",
        "for words in x_test_nltk:\n",
        "  filtered_sentence=[]\n",
        "  for w in words:\n",
        "    if w not in all_stopwords:\n",
        "        filtered_sentence.append(w)\n",
        "  filtered_sentence_test.append(filtered_sentence)\n",
        "\n",
        "#loại bỏ stop words trong data test NewsThump:\n",
        "filtered_sentence_test_NT = []\n",
        "for words in x_test_NT_nltk:\n",
        "  filtered_sentence=[]\n",
        "  for w in words:\n",
        "    if w not in all_stopwords:\n",
        "        filtered_sentence.append(w)\n",
        "  filtered_sentence_test_NT.append(filtered_sentence)"
      ],
      "execution_count": null,
      "outputs": []
    },
    {
      "cell_type": "markdown",
      "metadata": {
        "id": "WVgM8hFB1y2V"
      },
      "source": [
        "# **4.Train với data chưa xóa stop_word**"
      ]
    },
    {
      "cell_type": "code",
      "metadata": {
        "id": "5ZQ1KWTaGHBS"
      },
      "source": [
        "x_train, y_train = new_data_train['headline'], new_data_train['is_sarcastic']\n",
        "x_test, y_test = new_data_test['headline'], new_data_test['is_sarcastic']\n",
        "x_test_NT, y_test_NT= new_data_test_NT['headline'], new_data_test_NT['is_sarcastic']"
      ],
      "execution_count": null,
      "outputs": []
    },
    {
      "cell_type": "code",
      "metadata": {
        "colab": {
          "base_uri": "https://localhost:8080/"
        },
        "id": "b_j-gFYMgzlB",
        "outputId": "1305b7e9-dbb3-48f4-de4b-aeda4c438174"
      },
      "source": [
        "#Nguồn code tham khảo: https://scikit-learn.org/stable/tutorial/text_analytics/working_with_text_data.html\n",
        "#                      https://towardsdatascience.com/machine-learning-nlp-text-classification-using-scikit-learn-python-and-nltk-c52b92a7c73a\n",
        "from sklearn.feature_extraction.text import CountVectorizer\n",
        "from sklearn.feature_extraction.text import TfidfTransformer\n",
        "from sklearn.naive_bayes import MultinomialNB\n",
        "from sklearn.pipeline import Pipeline\n",
        "import numpy as np\n",
        "\n",
        "text_clf = Pipeline([\n",
        "    ('vect', CountVectorizer()),\n",
        "    ('tfidf', TfidfTransformer()),\n",
        "    ('clf', MultinomialNB()),\n",
        "])\n",
        "\n",
        "text_clf.fit(x_train, y_train)\n",
        "#predict với data tổng hợp\n",
        "y_predict = text_clf.predict(x_test)\n",
        "\n",
        "#Đo độ chính xác\n",
        "np.mean(y_predict == y_test) \n"
      ],
      "execution_count": null,
      "outputs": [
        {
          "output_type": "execute_result",
          "data": {
            "text/plain": [
              "0.9429269309820977"
            ]
          },
          "metadata": {
            "tags": []
          },
          "execution_count": 98
        }
      ]
    },
    {
      "cell_type": "code",
      "metadata": {
        "colab": {
          "base_uri": "https://localhost:8080/"
        },
        "id": "Se_mMWws5o6T",
        "outputId": "a54d6e94-90f2-45b5-ebff-14e4cae94ea6"
      },
      "source": [
        "\n",
        "\n",
        "#predict chỉ với data trang châm biếm NewsThump\n",
        "y_predict_NT = text_clf.predict(x_test_NT)\n",
        "\n",
        "#Đo độ chính xác NT:\n",
        "np.mean(y_predict_NT == y_test_NT)"
      ],
      "execution_count": null,
      "outputs": [
        {
          "output_type": "execute_result",
          "data": {
            "text/plain": [
              "0.0"
            ]
          },
          "metadata": {
            "tags": []
          },
          "execution_count": 99
        }
      ]
    },
    {
      "cell_type": "code",
      "metadata": {
        "colab": {
          "base_uri": "https://localhost:8080/"
        },
        "id": "cNtCcnD96mbU",
        "outputId": "a2948717-f252-4b88-fac6-687db525e8d2"
      },
      "source": [
        "from sklearn.linear_model import SGDClassifier\n",
        "text_clf = Pipeline([\n",
        "     ('vect', CountVectorizer()),\n",
        "     ('tfidf', TfidfTransformer()),\n",
        "     ('clf', SGDClassifier()),\n",
        " ])\n",
        "text_clf.fit(x_train, y_train)\n",
        "\n",
        "y_predict = text_clf.predict(x_test)\n",
        "#Đo độ chính xác\n",
        "np.mean(y_predict == y_test) "
      ],
      "execution_count": null,
      "outputs": [
        {
          "output_type": "execute_result",
          "data": {
            "text/plain": [
              "0.9429120371749427"
            ]
          },
          "metadata": {
            "tags": []
          },
          "execution_count": 100
        }
      ]
    },
    {
      "cell_type": "code",
      "metadata": {
        "colab": {
          "base_uri": "https://localhost:8080/"
        },
        "id": "2U8VKabt6Jj4",
        "outputId": "c0201fc5-8a07-41a1-99aa-e7687d269adb"
      },
      "source": [
        "#predict chỉ với data trang châm biếm NewsThump\n",
        "\n",
        "y_predict_NT = text_clf.predict(x_test_NT)\n",
        "#Đo độ chính xác\n",
        "np.mean(y_predict_NT == y_test_NT) "
      ],
      "execution_count": null,
      "outputs": [
        {
          "output_type": "execute_result",
          "data": {
            "text/plain": [
              "0.0"
            ]
          },
          "metadata": {
            "tags": []
          },
          "execution_count": 101
        }
      ]
    },
    {
      "cell_type": "markdown",
      "metadata": {
        "id": "yur4mY2JhwKR"
      },
      "source": [
        "# **4.Train với data đã xóa stop_word**"
      ]
    },
    {
      "cell_type": "code",
      "metadata": {
        "id": "raaB0dz3x1ce"
      },
      "source": [
        "x_train, y_train = filtered_sentence_train, new_data_train['is_sarcastic']\n",
        "x_test, y_test =  filtered_sentence_test, new_data_test['is_sarcastic']\n",
        "x_test_NT, y_test_NT = filtered_sentence_test_NT, new_data_test_NT['is_sarcastic']"
      ],
      "execution_count": null,
      "outputs": []
    },
    {
      "cell_type": "code",
      "metadata": {
        "id": "wjvXrCGQzY1A"
      },
      "source": [
        "# Vì data train và test sau khi xóa stop words là list không fit được nên chuyển tập list thành string \n",
        "# Nguồn code tham khảo: https://www.geeksforgeeks.org/python-program-to-convert-a-list-to-string/\n",
        "x_train = [\" \".join(x) for x in x_train]\n",
        "x_test =[\" \".join(x) for x in x_test]\n",
        "x_test_NT = [\" \".join(x) for x in x_test_NT]"
      ],
      "execution_count": null,
      "outputs": []
    },
    {
      "cell_type": "code",
      "metadata": {
        "colab": {
          "base_uri": "https://localhost:8080/"
        },
        "id": "_Q8uBCK4y0BD",
        "outputId": "bb7abe47-ca9f-47dc-e45b-fac1c0d5bc83"
      },
      "source": [
        "from sklearn.linear_model import SGDClassifier\n",
        "text_clf = Pipeline([\n",
        "     ('vect', CountVectorizer()),\n",
        "     ('tfidf', TfidfTransformer()),\n",
        "     ('clf', SGDClassifier()),\n",
        " ])\n",
        "text_clf.fit(x_train, y_train)\n",
        "\n",
        "y_predict = text_clf.predict(x_test)\n",
        "#Đo độ chính xác\n",
        "np.mean(y_predict == y_test) "
      ],
      "execution_count": null,
      "outputs": [
        {
          "output_type": "execute_result",
          "data": {
            "text/plain": [
              "0.9429120371749427"
            ]
          },
          "metadata": {
            "tags": []
          },
          "execution_count": 104
        }
      ]
    },
    {
      "cell_type": "code",
      "metadata": {
        "colab": {
          "base_uri": "https://localhost:8080/"
        },
        "id": "m00HyCdt9yz_",
        "outputId": "33fc9a7d-9150-47aa-b118-48ffbf501353"
      },
      "source": [
        "#predict chỉ với data trang châm biếm NewsThump\n",
        "\n",
        "y_predict_NT = text_clf.predict(x_test_NT)\n",
        "#Đo độ chính xác\n",
        "np.mean(y_predict_NT == y_test_NT) "
      ],
      "execution_count": null,
      "outputs": [
        {
          "output_type": "execute_result",
          "data": {
            "text/plain": [
              "0.0"
            ]
          },
          "metadata": {
            "tags": []
          },
          "execution_count": 105
        }
      ]
    },
    {
      "cell_type": "code",
      "metadata": {
        "colab": {
          "base_uri": "https://localhost:8080/"
        },
        "id": "RxrwiG9CChUz",
        "outputId": "19c84c04-39b5-43fd-f0b1-4bac2ea14888"
      },
      "source": [
        "text_clf = Pipeline([\n",
        "    ('vect', CountVectorizer()),\n",
        "    ('tfidf', TfidfTransformer()),\n",
        "    ('clf', MultinomialNB()),\n",
        "])\n",
        "\n",
        "text_clf.fit(x_train, y_train)\n",
        "\n",
        "y_predict = text_clf.predict(x_test)\n",
        "#Đo độ chính xác\n",
        "y_predict\n",
        "np.mean(y_predict == y_test) "
      ],
      "execution_count": null,
      "outputs": [
        {
          "output_type": "execute_result",
          "data": {
            "text/plain": [
              "0.9429418247892526"
            ]
          },
          "metadata": {
            "tags": []
          },
          "execution_count": 106
        }
      ]
    },
    {
      "cell_type": "code",
      "metadata": {
        "colab": {
          "base_uri": "https://localhost:8080/"
        },
        "id": "2UXyHKS6--Ij",
        "outputId": "c9114569-831a-48ba-c04b-99b664c772ec"
      },
      "source": [
        "\n",
        "\n",
        "#predict chỉ với data trang châm biếm NewsThump\n",
        "y_predict_NT = text_clf.predict(x_test_NT)\n",
        "\n",
        "#Đo độ chính xác NT:\n",
        "np.mean(y_predict_NT == y_test_NT)"
      ],
      "execution_count": null,
      "outputs": [
        {
          "output_type": "execute_result",
          "data": {
            "text/plain": [
              "0.0"
            ]
          },
          "metadata": {
            "tags": []
          },
          "execution_count": 107
        }
      ]
    },
    {
      "cell_type": "markdown",
      "metadata": {
        "id": "ATBmBU7b7bct"
      },
      "source": [
        "# **5.Nhận xét và đánh giá**"
      ]
    },
    {
      "cell_type": "markdown",
      "metadata": {
        "id": "B_9RkrGSvVvc"
      },
      "source": [
        "\n",
        "*   Sau khi nhóm thử thử nghiệm phân loại bằng SGDClassifier và Naive Bayes trước(0) và sau(1) khi remove stop words thì thu được kết quả có độ chính xác: SGDClassifier(0): 94,2912%, SGDClassifier(1): 94,2912%, Naive Bayes(0):  94,2927%, Naive Bayes(1): 94,2942%.\n",
        "\n",
        "*   Kết quả này rất thấp, bằng chứng là khi predict với data trang châm biếm NewThump thì độ chính xác đều bằng 0%.\n",
        "\n",
        "*   Hai model SGDClassifier và Naive Bayes làm việc với text data tốt nhưng Data của các trang chính thống quá lớn so với data của những trang châm biến dẫn đến việc train và dự đoán kết quả không cao.\n",
        "\n",
        "\n",
        "\n"
      ]
    }
  ]
}