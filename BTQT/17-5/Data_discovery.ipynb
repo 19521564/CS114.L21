{
  "nbformat": 4,
  "nbformat_minor": 0,
  "metadata": {
    "colab": {
      "name": "Data_discovery.ipynb",
      "provenance": [],
      "collapsed_sections": []
    },
    "kernelspec": {
      "name": "python3",
      "display_name": "Python 3"
    },
    "language_info": {
      "name": "python"
    }
  },
  "cells": [
    {
      "cell_type": "code",
      "metadata": {
        "colab": {
          "base_uri": "https://localhost:8080/",
          "height": 0
        },
        "id": "DVM4w2y9Ark-",
        "outputId": "8cf3c56b-d905-40bd-dc9a-bb485293f00e"
      },
      "source": [
        "!git clone https://github.com/phandaiduonghcb/CS114.L21"
      ],
      "execution_count": 6,
      "outputs": [
        {
          "output_type": "stream",
          "text": [
            "Cloning into 'CS114.L21'...\n",
            "remote: Enumerating objects: 88, done.\u001b[K\n",
            "remote: Counting objects: 100% (88/88), done.\u001b[K\n",
            "remote: Compressing objects: 100% (77/77), done.\u001b[K\n",
            "remote: Total 88 (delta 12), reused 59 (delta 6), pack-reused 0\u001b[K\n",
            "Unpacking objects: 100% (88/88), done.\n"
          ],
          "name": "stdout"
        }
      ]
    },
    {
      "cell_type": "code",
      "metadata": {
        "id": "BxbwSou4BMd0"
      },
      "source": [
        "!mv /content/CS114.L21/BTQT/17-5/wecode.csv wecode.csv\n",
        "!mv /content/CS114.L21/BTQT/17-5/score_training.csv score.csv\n"
      ],
      "execution_count": 7,
      "outputs": []
    },
    {
      "cell_type": "code",
      "metadata": {
        "colab": {
          "base_uri": "https://localhost:8080/"
        },
        "id": "XkF7djWtBTGY",
        "outputId": "9e5109f8-3150-47fd-bff5-da079dc6195e"
      },
      "source": [
        "!head wecode.csv"
      ],
      "execution_count": null,
      "outputs": [
        {
          "output_type": "stream",
          "text": [
            "\"id\",\"assignment_id\",\"problem_id\",\"user_id\",\"is_final\",\"status\",\"pre_score\",\"coefficient\",\"file_name\",\"language_id\",\"created_at\",\"updated_at\"\n",
            "\"4\",\"0\",\"3\",\"4\",\"1\",\"SCORE\",\"10000\",\"100\",\"solution-0\",\"2\",\"2020-10-30 10:58:11\",\"2020-10-30 10:58:19\"\n",
            "\"5\",\"0\",\"4\",\"4\",\"1\",\"SCORE\",\"10000\",\"100\",\"solution-1\",\"2\",\"2020-10-30 11:07:09\",\"2020-10-30 11:07:17\"\n",
            "\"6\",\"0\",\"5\",\"4\",\"0\",\"Compilation Error\",\"0\",\"100\",\"solution-2\",\"2\",\"2020-10-30 11:08:01\",\"2020-10-30 11:23:36\"\n",
            "\"7\",\"0\",\"5\",\"4\",\"0\",\"Compilation Error\",\"0\",\"100\",\"solution-3\",\"2\",\"2020-10-30 11:11:41\",\"2020-10-30 11:11:42\"\n",
            "\"8\",\"0\",\"5\",\"4\",\"0\",\"Compilation Error\",\"0\",\"100\",\"solution-4\",\"2\",\"2020-10-30 11:15:06\",\"2020-10-30 11:15:07\"\n",
            "\"9\",\"0\",\"5\",\"4\",\"0\",\"Compilation Error\",\"0\",\"100\",\"solution-5\",\"2\",\"2020-10-30 11:16:57\",\"2020-10-30 11:16:58\"\n",
            "\"10\",\"0\",\"6\",\"4\",\"1\",\"SCORE\",\"10000\",\"100\",\"solution-6\",\"2\",\"2020-10-30 11:18:47\",\"2020-10-30 11:18:55\"\n",
            "\"11\",\"0\",\"7\",\"4\",\"1\",\"SCORE\",\"10000\",\"100\",\"solution-7\",\"2\",\"2020-10-30 11:20:07\",\"2020-10-30 11:20:15\"\n",
            "\"12\",\"0\",\"8\",\"4\",\"1\",\"SCORE\",\"10000\",\"100\",\"solution-8\",\"2\",\"2020-10-30 11:21:02\",\"2020-10-30 11:21:10\"\n"
          ],
          "name": "stdout"
        }
      ]
    },
    {
      "cell_type": "code",
      "metadata": {
        "id": "iwTgomalEz8_"
      },
      "source": [
        "import sys\n",
        "import csv\n",
        "i=0\n",
        "dic = {}\n",
        "with open('wecode.csv') as csvfile:\n",
        "  csv_reader = csv.reader(csvfile,delimiter=',')\n",
        "  next(csv_reader)\n",
        "  for row in csv_reader:\n",
        "    problem_id = row[2]\n",
        "    id = row[0]\n",
        "    user_id = row[3]\n",
        "    is_final = int(row[4])\n",
        "    score = int(row[6])\n",
        "    sum_score = 0\n",
        "    tries = 0\n",
        "    solved = 0\n",
        "    if is_final:\n",
        "      sum_score = score\n",
        "    if score == 10000:\n",
        "      solved = 1\n",
        "    else:\n",
        "      tries = 1\n",
        "\n",
        "    if user_id not in dic.keys():\n",
        "      dic[user_id] = [sum_score,{problem_id:[tries,solved]}]\n",
        "    else:\n",
        "      arr = dic[user_id]\n",
        "      arr[0]+=sum_score\n",
        "      if problem_id not in arr[1].keys():\n",
        "        arr[1][problem_id] = [tries,solved]\n",
        "      else:\n",
        "        a = arr[1][problem_id]\n",
        "        a[0]+=tries\n",
        "        a[1]+=solved\n",
        "        arr[1][problem_id] = a\n",
        "\n",
        "\n"
      ],
      "execution_count": 97,
      "outputs": []
    },
    {
      "cell_type": "code",
      "metadata": {
        "id": "cuw3PElnYQwD"
      },
      "source": [
        "\n",
        "for user_id in dic.keys():\n",
        "  tong_unsolved_solved = 0\n",
        "  so_problem_submited = len(dic[user_id][1])\n",
        "  a = dic[user_id]\n",
        "  tong = 0\n",
        "  for problem_id in a[1].keys():\n",
        "    tong_unsolved_solved += (a[1][problem_id][0] + a[1][problem_id][1])\n",
        "    tong+=(a[1][problem_id][1])/(tong_unsolved_solved)\n",
        "  a[1] = tong\n",
        "  a.append(so_problem_submited/tong_unsolved_solved)\n",
        "  dic[user_id] = a"
      ],
      "execution_count": 98,
      "outputs": []
    },
    {
      "cell_type": "code",
      "metadata": {
        "colab": {
          "base_uri": "https://localhost:8080/",
          "height": 0
        },
        "id": "ooOU0NUz4BTF",
        "outputId": "e719ae58-973f-4f2b-be0e-9d39b902ec1d"
      },
      "source": [
        "dic['4'] #Tổng điểm các bài is_final, tổng tỉ lệ solved/tổng số lần submit của mỗi problem, tỉ lệ số problem đã submit/ số submission"
      ],
      "execution_count": 99,
      "outputs": [
        {
          "output_type": "execute_result",
          "data": {
            "text/plain": [
              "[370000, 3.404338241265562, 0.7592592592592593]"
            ]
          },
          "metadata": {
            "tags": []
          },
          "execution_count": 99
        }
      ]
    },
    {
      "cell_type": "code",
      "metadata": {
        "colab": {
          "base_uri": "https://localhost:8080/"
        },
        "id": "JNcwObt6Y_PC",
        "outputId": "f77167f2-f8b1-4b26-b033-cfd186f83b64"
      },
      "source": [
        "!head score.csv"
      ],
      "execution_count": null,
      "outputs": [
        {
          "output_type": "stream",
          "text": [
            "id,QT,GK,TH,CK,TBM,TBTL\n",
            "22,10,9,8.5,8.5,8.8,8.52\n",
            "24,10,8,10,9.5,9.4,8.41\n",
            "27,10,10,10,10,10,8.67\n",
            "28,10,9.5,7.5,9.5,9.2,7.39\n",
            "29,10,9.5,5,8.5,8.2,8.05\n",
            "30,10,10,9,9,9.3,8.63\n",
            "34, , ,9,6.5, ,6.24\n",
            "35,7,9.5,6,4.5,6.2,5.75\n",
            "36,4.5,8,9,7,7.6,8.51\n"
          ],
          "name": "stdout"
        }
      ]
    },
    {
      "cell_type": "code",
      "metadata": {
        "id": "E7ycbAFtZNPP"
      },
      "source": [
        "X_1 = []\n",
        "X = []\n",
        "y = []\n",
        "\n",
        "with open('score.csv') as csvfile:\n",
        "  csv_reader = csv.reader(csvfile,delimiter=',')\n",
        "  next(csv_reader)\n",
        "  for row in csv_reader:\n",
        "    user_id = row[0]\n",
        "    if user_id in dic.keys():\n",
        "      arr = dic[user_id]\n",
        "      try:\n",
        "        cuoiki = float(row[4])\n",
        "      except:\n",
        "        cuoiki = 0\n",
        "      arr.append(cuoiki)\n",
        "      dic[user_id] = arr\n",
        "\n",
        "for user_id in dic.keys():\n",
        "  if len(dic[user_id])==3:\n",
        "    X_1.append(dic[user_id])\n",
        "  else:\n",
        "    X.append(dic[user_id][:-1])\n",
        "    y.append(dic[user_id][-1])"
      ],
      "execution_count": 100,
      "outputs": []
    },
    {
      "cell_type": "code",
      "metadata": {
        "colab": {
          "base_uri": "https://localhost:8080/",
          "height": 0
        },
        "id": "xL0H2hU6bSdG",
        "outputId": "ff653bdf-1b4e-49cc-e956-2d84e9bd982a"
      },
      "source": [
        "X[:10]"
      ],
      "execution_count": 101,
      "outputs": [
        {
          "output_type": "execute_result",
          "data": {
            "text/plain": [
              "[[824256, 0.7154917196390982, 0.332089552238806],\n",
              " [939166, 2.4366611377673477, 0.44907407407407407],\n",
              " [948180, 1.0873861206134656, 0.2357142857142857],\n",
              " [972744, 1.8640054497014393, 0.42677824267782427],\n",
              " [984714, 1.3794574047207988, 0.4331983805668016],\n",
              " [1093250, 1.7301895242466034, 0.3125],\n",
              " [1085241, 1.0396210044988567, 0.2687651331719128],\n",
              " [1042644, 1.4442495677847809, 0.3698630136986301],\n",
              " [1038888, 1.208565508220624, 0.43089430894308944],\n",
              " [1054068, 1.7274368942869318, 0.41568627450980394]]"
            ]
          },
          "metadata": {
            "tags": []
          },
          "execution_count": 101
        }
      ]
    },
    {
      "cell_type": "code",
      "metadata": {
        "colab": {
          "base_uri": "https://localhost:8080/",
          "height": 0
        },
        "id": "tl1hOE_fdSRt",
        "outputId": "2ffe19b7-5b98-4bec-ad7d-60609baebda4"
      },
      "source": [
        "\n",
        "X_1[:10]"
      ],
      "execution_count": 102,
      "outputs": [
        {
          "output_type": "execute_result",
          "data": {
            "text/plain": [
              "[[370000, 3.404338241265562, 0.7592592592592593],\n",
              " [969716, 2.2711591073194852, 0.41841004184100417],\n",
              " [629000, 1.2054084394460833, 0.46],\n",
              " [370000, 3.1735938716074448, 0.7818181818181819],\n",
              " [908173, 1.4360853204589035, 0.3939393939393939],\n",
              " [1073263, 0.8059498773008636, 0.18120805369127516],\n",
              " [826937, 1.551830706990581, 0.33725490196078434],\n",
              " [575000, 1.5718494623725545, 0.5116279069767442],\n",
              " [458666, 1.670343319082334, 0.49504950495049505],\n",
              " [1323982, 2.464172427704691, 0.30344827586206896]]"
            ]
          },
          "metadata": {
            "tags": []
          },
          "execution_count": 102
        }
      ]
    },
    {
      "cell_type": "code",
      "metadata": {
        "colab": {
          "base_uri": "https://localhost:8080/",
          "height": 0
        },
        "id": "n3Tj16YnyA1f",
        "outputId": "4c58fccd-01be-47a5-9574-dfaded5e571f"
      },
      "source": [
        "y[:10]"
      ],
      "execution_count": 103,
      "outputs": [
        {
          "output_type": "execute_result",
          "data": {
            "text/plain": [
              "[8.5, 8.5, 7.5, 9.0, 8.5, 8.0, 7.0, 9.0, 2.5, 8.0]"
            ]
          },
          "metadata": {
            "tags": []
          },
          "execution_count": 103
        }
      ]
    },
    {
      "cell_type": "code",
      "metadata": {
        "colab": {
          "base_uri": "https://localhost:8080/",
          "height": 298
        },
        "id": "kuYSm_ayXnrM",
        "outputId": "3933d425-4197-4c29-e85e-3e3af947d659"
      },
      "source": [
        "import matplotlib.pyplot as plt\n",
        "for i in range(len(y)):\n",
        "  plt.scatter(X[i][0],y[i],c='red')\n",
        "  plt.xlabel('tong diem is_final')\n",
        "  plt.ylabel('diem cuoi ki')\n",
        "plt.show"
      ],
      "execution_count": 106,
      "outputs": [
        {
          "output_type": "execute_result",
          "data": {
            "text/plain": [
              "<function matplotlib.pyplot.show>"
            ]
          },
          "metadata": {
            "tags": []
          },
          "execution_count": 106
        },
        {
          "output_type": "display_data",
          "data": {
            "image/png": "[encoded data removed]",
            "text/plain": [
              "<Figure size 432x288 with 1 Axes>"
            ]
          },
          "metadata": {
            "tags": [],
            "needs_background": "light"
          }
        }
      ]
    },
    {
      "cell_type": "code",
      "metadata": {
        "colab": {
          "base_uri": "https://localhost:8080/",
          "height": 298
        },
        "id": "kaWsDh6LPOmc",
        "outputId": "c86ab4fe-b265-4fd7-aa57-28483fa1c673"
      },
      "source": [
        "import matplotlib.pyplot as plt\n",
        "for i in range(len(y)):\n",
        "  plt.scatter(X[i][1],y[i],c='red')\n",
        "  plt.xlabel('tổng tỉ lệ solved/tổng số lần submit của mỗi problem')\n",
        "  plt.ylabel('diem cuoi ki')\n",
        "plt.show"
      ],
      "execution_count": 107,
      "outputs": [
        {
          "output_type": "execute_result",
          "data": {
            "text/plain": [
              "<function matplotlib.pyplot.show>"
            ]
          },
          "metadata": {
            "tags": []
          },
          "execution_count": 107
        },
        {
          "output_type": "display_data",
          "data": {
            "image/png": "[encoded data removed]",
            "text/plain": [
              "<Figure size 432x288 with 1 Axes>"
            ]
          },
          "metadata": {
            "tags": [],
            "needs_background": "light"
          }
        }
      ]
    },
    {
      "cell_type": "code",
      "metadata": {
        "colab": {
          "base_uri": "https://localhost:8080/",
          "height": 298
        },
        "id": "H6IZfuoTPo6O",
        "outputId": "b060ad26-6136-4a2a-c585-6d3699263895"
      },
      "source": [
        "import matplotlib.pyplot as plt\n",
        "for i in range(len(y)):\n",
        "  plt.scatter(X[i][2],y[i],c='red')\n",
        "  plt.xlabel('tỉ lệ số problem đã submit/ số submission')\n",
        "  plt.ylabel('diem cuoi ki')\n",
        "plt.show"
      ],
      "execution_count": 108,
      "outputs": [
        {
          "output_type": "execute_result",
          "data": {
            "text/plain": [
              "<function matplotlib.pyplot.show>"
            ]
          },
          "metadata": {
            "tags": []
          },
          "execution_count": 108
        },
        {
          "output_type": "display_data",
          "data": {
            "image/png": "[encoded data removed]",
            "text/plain": [
              "<Figure size 432x288 with 1 Axes>"
            ]
          },
          "metadata": {
            "tags": [],
            "needs_background": "light"
          }
        }
      ]
    },
    {
      "cell_type": "code",
      "metadata": {
        "id": "FcTizQXZPmWW"
      },
      "source": [
        ""
      ],
      "execution_count": null,
      "outputs": []
    },
    {
      "cell_type": "code",
      "metadata": {
        "colab": {
          "base_uri": "https://localhost:8080/",
          "height": 0
        },
        "id": "QIWgty-Hd9iW",
        "outputId": "583b116a-92b4-467f-89fe-c0e3ed670c26"
      },
      "source": [
        "import numpy as np\n",
        "\n",
        "X = np.array(X)\n",
        "y = np.array(y)\n",
        "\n",
        "from sklearn.model_selection import train_test_split\n",
        "X_train, X_test, y_train, y_test = train_test_split(X, y, test_size=0.2)\n",
        "\n",
        "print('Train', X_train.shape, y_train.shape)\n",
        "print('Test', X_test.shape, y_test.shape)\n"
      ],
      "execution_count": 57,
      "outputs": [
        {
          "output_type": "stream",
          "text": [
            "Train (682, 3) (682,)\n",
            "Test (171, 3) (171,)\n"
          ],
          "name": "stdout"
        }
      ]
    },
    {
      "cell_type": "code",
      "metadata": {
        "colab": {
          "base_uri": "https://localhost:8080/",
          "height": 0
        },
        "id": "3hZte-UF3elu",
        "outputId": "afff2713-318d-4679-847d-ce392dc90ce0"
      },
      "source": [
        "from sklearn.linear_model import LinearRegression\n",
        "reg = LinearRegression().fit(X_train,y_train)\n",
        "predicted = reg.predict(X_test)\n",
        "\n",
        "from sklearn.metrics import mean_squared_error\n",
        "MSE = ((predicted-y_test)**2).sum()/len(y_test)\n",
        "RMSE = np.sqrt(MSE)\n",
        "print(RMSE/y_test.mean()*100)\n",
        "print(reg.score(X_test,y_test))"
      ],
      "execution_count": 58,
      "outputs": [
        {
          "output_type": "stream",
          "text": [
            "42.19710973796775\n",
            "0.006613761518755923\n"
          ],
          "name": "stdout"
        }
      ]
    },
    {
      "cell_type": "code",
      "metadata": {
        "id": "Zn39DFMm5skl"
      },
      "source": [
        "for x in"
      ],
      "execution_count": null,
      "outputs": []
    }
  ]
}