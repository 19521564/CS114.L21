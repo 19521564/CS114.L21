{
  "nbformat": 4,
  "nbformat_minor": 0,
  "metadata": {
    "colab": {
      "name": "Data_discovery.ipynb",
      "provenance": [],
      "collapsed_sections": []
    },
    "kernelspec": {
      "name": "python3",
      "display_name": "Python 3"
    },
    "language_info": {
      "name": "python"
    }
  },
  "cells": [
    {
      "cell_type": "code",
      "metadata": {
        "colab": {
          "base_uri": "https://localhost:8080/"
        },
        "id": "DVM4w2y9Ark-",
        "outputId": "57f504fd-376e-444e-b6e9-b18eda551e8f"
      },
      "source": [
        "!git clone https://github.com/phandaiduonghcb/CS114.L21"
      ],
      "execution_count": 1,
      "outputs": [
        {
          "output_type": "stream",
          "text": [
            "Cloning into 'CS114.L21'...\n",
            "remote: Enumerating objects: 83, done.\u001b[K\n",
            "remote: Counting objects: 100% (83/83), done.\u001b[K\n",
            "remote: Compressing objects: 100% (72/72), done.\u001b[K\n",
            "remote: Total 83 (delta 11), reused 55 (delta 6), pack-reused 0\u001b[K\n",
            "Unpacking objects: 100% (83/83), done.\n"
          ],
          "name": "stdout"
        }
      ]
    },
    {
      "cell_type": "code",
      "metadata": {
        "id": "BxbwSou4BMd0"
      },
      "source": [
        "!mv /content/CS114.L21/BTQT/17-5/wecode.csv wecode.csv\n",
        "!mv /content/CS114.L21/BTQT/17-5/score_training.csv score.csv\n"
      ],
      "execution_count": 2,
      "outputs": []
    },
    {
      "cell_type": "code",
      "metadata": {
        "colab": {
          "base_uri": "https://localhost:8080/"
        },
        "id": "XkF7djWtBTGY",
        "outputId": "c2a19545-042a-4f23-af7c-0f9d3f697e58"
      },
      "source": [
        "!head wecode.csv"
      ],
      "execution_count": 3,
      "outputs": [
        {
          "output_type": "stream",
          "text": [
            "\"id\",\"assignment_id\",\"problem_id\",\"user_id\",\"is_final\",\"status\",\"pre_score\",\"coefficient\",\"file_name\",\"language_id\",\"created_at\",\"updated_at\"\n",
            "\"4\",\"0\",\"3\",\"4\",\"1\",\"SCORE\",\"10000\",\"100\",\"solution-0\",\"2\",\"2020-10-30 10:58:11\",\"2020-10-30 10:58:19\"\n",
            "\"5\",\"0\",\"4\",\"4\",\"1\",\"SCORE\",\"10000\",\"100\",\"solution-1\",\"2\",\"2020-10-30 11:07:09\",\"2020-10-30 11:07:17\"\n",
            "\"6\",\"0\",\"5\",\"4\",\"0\",\"Compilation Error\",\"0\",\"100\",\"solution-2\",\"2\",\"2020-10-30 11:08:01\",\"2020-10-30 11:23:36\"\n",
            "\"7\",\"0\",\"5\",\"4\",\"0\",\"Compilation Error\",\"0\",\"100\",\"solution-3\",\"2\",\"2020-10-30 11:11:41\",\"2020-10-30 11:11:42\"\n",
            "\"8\",\"0\",\"5\",\"4\",\"0\",\"Compilation Error\",\"0\",\"100\",\"solution-4\",\"2\",\"2020-10-30 11:15:06\",\"2020-10-30 11:15:07\"\n",
            "\"9\",\"0\",\"5\",\"4\",\"0\",\"Compilation Error\",\"0\",\"100\",\"solution-5\",\"2\",\"2020-10-30 11:16:57\",\"2020-10-30 11:16:58\"\n",
            "\"10\",\"0\",\"6\",\"4\",\"1\",\"SCORE\",\"10000\",\"100\",\"solution-6\",\"2\",\"2020-10-30 11:18:47\",\"2020-10-30 11:18:55\"\n",
            "\"11\",\"0\",\"7\",\"4\",\"1\",\"SCORE\",\"10000\",\"100\",\"solution-7\",\"2\",\"2020-10-30 11:20:07\",\"2020-10-30 11:20:15\"\n",
            "\"12\",\"0\",\"8\",\"4\",\"1\",\"SCORE\",\"10000\",\"100\",\"solution-8\",\"2\",\"2020-10-30 11:21:02\",\"2020-10-30 11:21:10\"\n"
          ],
          "name": "stdout"
        }
      ]
    },
    {
      "cell_type": "code",
      "metadata": {
        "id": "iwTgomalEz8_"
      },
      "source": [
        "import sys\n",
        "import csv\n",
        "i=0\n",
        "dic = {}\n",
        "with open('wecode.csv') as csvfile:\n",
        "  csv_reader = csv.reader(csvfile,delimiter=',')\n",
        "  next(csv_reader)\n",
        "  for row in csv_reader:\n",
        "    id = row[0]\n",
        "    user_id = row[3]\n",
        "    is_final = int(row[4])\n",
        "    status = row[5]\n",
        "    score = int(row[6])\n",
        "    try:\n",
        "      coef = int(row[7])\n",
        "    except:\n",
        "      coef = 0\n",
        "    #user_id,no_compilation_error,sum_score,coef\n",
        "    no_compilation_error = 0\n",
        "    if status == 'Compilation Error':\n",
        "      no_compilation_error +=1\n",
        "    sum_score = 0\n",
        "    if is_final:\n",
        "      sum_score = score\n",
        "    \n",
        "\n",
        "    if user_id not in dic.keys():\n",
        "      dic[user_id] = [no_compilation_error,sum_score,coef]\n",
        "    else:\n",
        "      arr = dic[user_id]\n",
        "      arr[0]+=no_compilation_error\n",
        "      arr[1]+=sum_score\n",
        "      arr[2]+=coef\n",
        "\n",
        "\n"
      ],
      "execution_count": 4,
      "outputs": []
    },
    {
      "cell_type": "code",
      "metadata": {
        "colab": {
          "base_uri": "https://localhost:8080/"
        },
        "id": "cuw3PElnYQwD",
        "outputId": "fd68a97a-0f0a-46c1-ddbd-56965a9d3437"
      },
      "source": [
        "dic['4'] #Số lần compilation error, tổng điểm các assignment is_final, tổng hệ số nộp trễ các submission"
      ],
      "execution_count": 5,
      "outputs": [
        {
          "output_type": "execute_result",
          "data": {
            "text/plain": [
              "[6, 370000, 5400]"
            ]
          },
          "metadata": {
            "tags": []
          },
          "execution_count": 5
        }
      ]
    },
    {
      "cell_type": "code",
      "metadata": {
        "colab": {
          "base_uri": "https://localhost:8080/",
          "height": 298
        },
        "id": "r09BBrKeVVxR",
        "outputId": "995d2598-fa73-4abc-fb52-183fc1d34bf4"
      },
      "source": [
        "import matplotlib.pyplot as plt\n",
        "i=0\n",
        "for user_id in dic.keys():\n",
        "  if i==10000:\n",
        "    break\n",
        "  arr = dic[user_id]\n",
        "  plt.xlabel('no_compilation_error')\n",
        "  plt.ylabel('coef')\n",
        "  plt.scatter(arr[0],arr[2],c='g')\n",
        "  i+=1\n",
        "plt.show"
      ],
      "execution_count": 6,
      "outputs": [
        {
          "output_type": "execute_result",
          "data": {
            "text/plain": [
              "<function matplotlib.pyplot.show>"
            ]
          },
          "metadata": {
            "tags": []
          },
          "execution_count": 6
        },
        {
          "output_type": "display_data",
          "data": {
            "image/png": "[encoded data removed]",
            "text/plain": [
              "<Figure size 432x288 with 1 Axes>"
            ]
          },
          "metadata": {
            "tags": [],
            "needs_background": "light"
          }
        }
      ]
    },
    {
      "cell_type": "code",
      "metadata": {
        "colab": {
          "base_uri": "https://localhost:8080/",
          "height": 297
        },
        "id": "MPpoS42WWvTh",
        "outputId": "545c7d8f-311b-40dc-ef3d-648aeb798a63"
      },
      "source": [
        "import matplotlib.pyplot as plt\n",
        "i=0\n",
        "for user_id in dic.keys():\n",
        "  if i==10000:\n",
        "    break\n",
        "  arr = dic[user_id]\n",
        "  plt.xlabel('sum_score')\n",
        "  plt.ylabel('coef')\n",
        "  plt.scatter(arr[1],arr[2],c='r')\n",
        "  i+=1\n",
        "plt.show"
      ],
      "execution_count": 7,
      "outputs": [
        {
          "output_type": "execute_result",
          "data": {
            "text/plain": [
              "<function matplotlib.pyplot.show>"
            ]
          },
          "metadata": {
            "tags": []
          },
          "execution_count": 7
        },
        {
          "output_type": "display_data",
          "data": {
            "image/png": "[encoded data removed]",
            "text/plain": [
              "<Figure size 432x288 with 1 Axes>"
            ]
          },
          "metadata": {
            "tags": [],
            "needs_background": "light"
          }
        }
      ]
    },
    {
      "cell_type": "code",
      "metadata": {
        "colab": {
          "base_uri": "https://localhost:8080/",
          "height": 309
        },
        "id": "kuYSm_ayXnrM",
        "outputId": "c2650225-b173-4c00-be43-296c763073b9"
      },
      "source": [
        "import matplotlib.pyplot as plt\n",
        "i=0\n",
        "for user_id in dic.keys():\n",
        "  if i==10000:\n",
        "    break\n",
        "  arr = dic[user_id]\n",
        "  plt.xlabel('no_compilation_error')\n",
        "  plt.ylabel('sum_score')\n",
        "  plt.scatter(arr[0],arr[1],c='r')\n",
        "  i+=1\n",
        "plt.show"
      ],
      "execution_count": 8,
      "outputs": [
        {
          "output_type": "execute_result",
          "data": {
            "text/plain": [
              "<function matplotlib.pyplot.show>"
            ]
          },
          "metadata": {
            "tags": []
          },
          "execution_count": 8
        },
        {
          "output_type": "display_data",
          "data": {
            "image/png": "[encoded data removed]",
            "text/plain": [
              "<Figure size 432x288 with 1 Axes>"
            ]
          },
          "metadata": {
            "tags": [],
            "needs_background": "light"
          }
        }
      ]
    },
    {
      "cell_type": "code",
      "metadata": {
        "colab": {
          "base_uri": "https://localhost:8080/"
        },
        "id": "JNcwObt6Y_PC",
        "outputId": "5c670b40-7aa4-4caf-b0a7-b12da30cb94c"
      },
      "source": [
        "!head score.csv"
      ],
      "execution_count": 9,
      "outputs": [
        {
          "output_type": "stream",
          "text": [
            "id,QT,GK,TH,CK,TBM,TBTL\n",
            "22,10,9,8.5,8.5,8.8,8.52\n",
            "24,10,8,10,9.5,9.4,8.41\n",
            "27,10,10,10,10,10,8.67\n",
            "28,10,9.5,7.5,9.5,9.2,7.39\n",
            "29,10,9.5,5,8.5,8.2,8.05\n",
            "30,10,10,9,9,9.3,8.63\n",
            "34, , ,9,6.5, ,6.24\n",
            "35,7,9.5,6,4.5,6.2,5.75\n",
            "36,4.5,8,9,7,7.6,8.51\n"
          ],
          "name": "stdout"
        }
      ]
    },
    {
      "cell_type": "code",
      "metadata": {
        "id": "E7ycbAFtZNPP"
      },
      "source": [
        "X = []\n",
        "X_train = []\n",
        "Y_train = []\n",
        "\n",
        "with open('score.csv') as csvfile:\n",
        "  csv_reader = csv.reader(csvfile,delimiter=',')\n",
        "  next(csv_reader)\n",
        "  for row in csv_reader:\n",
        "    user_id = row[0]\n",
        "    if user_id in dic.keys():\n",
        "      arr = dic[user_id]\n",
        "      try:\n",
        "        cuoiki = float(row[4])\n",
        "      except:\n",
        "        cuoiki = 0\n",
        "      arr.append(cuoiki)\n",
        "      dic[user_id] = arr\n",
        "\n",
        "for user_id in dic.keys():\n",
        "  if len(dic[user_id])==3:\n",
        "    X.append(dic[user_id])\n",
        "  else:\n",
        "    X_train.append(dic[user_id][:-1])\n",
        "    Y_train.append(dic[user_id][-1])"
      ],
      "execution_count": null,
      "outputs": []
    },
    {
      "cell_type": "code",
      "metadata": {
        "colab": {
          "base_uri": "https://localhost:8080/"
        },
        "id": "xL0H2hU6bSdG",
        "outputId": "83c3a5b5-6829-4391-f7f5-63ca27a21dab"
      },
      "source": [
        "X[:10]"
      ],
      "execution_count": 12,
      "outputs": [
        {
          "output_type": "execute_result",
          "data": {
            "text/plain": [
              "[[6, 370000, 5400],\n",
              " [27, 969716, 23900],\n",
              " [22, 629000, 15000],\n",
              " [13, 370000, 5500],\n",
              " [39, 908173, 23100],\n",
              " [119, 1073263, 59600],\n",
              " [39, 826937, 25500],\n",
              " [43, 575000, 12900],\n",
              " [25, 458666, 10100],\n",
              " [42, 1323982, 43677]]"
            ]
          },
          "metadata": {
            "tags": []
          },
          "execution_count": 12
        }
      ]
    },
    {
      "cell_type": "code",
      "metadata": {
        "colab": {
          "base_uri": "https://localhost:8080/"
        },
        "id": "tl1hOE_fdSRt",
        "outputId": "b5cb1a56-41a5-4283-8927-6cfaa4b74ba6"
      },
      "source": [
        "X_train[:10]"
      ],
      "execution_count": 13,
      "outputs": [
        {
          "output_type": "execute_result",
          "data": {
            "text/plain": [
              "[[55, 824256, 26800],\n",
              " [25, 939166, 21600],\n",
              " [91, 948180, 42000],\n",
              " [25, 972744, 23900],\n",
              " [46, 984714, 24700],\n",
              " [21, 1093250, 35200],\n",
              " [50, 1085241, 41300],\n",
              " [23, 1042644, 29200],\n",
              " [89, 1038888, 24600],\n",
              " [26, 1054068, 25500]]"
            ]
          },
          "metadata": {
            "tags": []
          },
          "execution_count": 13
        }
      ]
    },
    {
      "cell_type": "code",
      "metadata": {
        "colab": {
          "base_uri": "https://localhost:8080/"
        },
        "id": "QIWgty-Hd9iW",
        "outputId": "8a323294-8907-4b73-85c6-94d61fd43034"
      },
      "source": [
        "Y_train[:10]"
      ],
      "execution_count": 14,
      "outputs": [
        {
          "output_type": "execute_result",
          "data": {
            "text/plain": [
              "[8.5, 8.5, 7.5, 9.0, 8.5, 8.0, 7.0, 9.0, 2.5, 8.0]"
            ]
          },
          "metadata": {
            "tags": []
          },
          "execution_count": 14
        }
      ]
    }
  ]
}