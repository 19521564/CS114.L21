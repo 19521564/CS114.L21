{
  "nbformat": 4,
  "nbformat_minor": 0,
  "metadata": {
    "colab": {
      "name": "Classify_articles.ipynb",
      "provenance": []
    },
    "kernelspec": {
      "display_name": "Python 3",
      "name": "python3"
    },
    "language_info": {
      "name": "python"
    }
  },
  "cells": [
    {
      "cell_type": "markdown",
      "metadata": {
        "id": "-dF_eOqBDRBi"
      },
      "source": [
        "**DỀ TÀI: ỨNG DỤNG LỌC TIN BẠO LỰC**"
      ]
    },
    {
      "cell_type": "markdown",
      "metadata": {
        "id": "J8F75XTSGWKY"
      },
      "source": [
        "1. MÔ TẢ BÀI TOÁN:\n",
        "- Input: URL tới một bài báo Tiếng Việt\n",
        "- Output: return True nếu đó là bài báo mang yếu tố tiêu cực, bạo lực. Ngược lại return False.\n",
        "\n",
        "2. MÔ TẢ BỘ DỮ LIỆU:\n",
        "- Cách thức xây dựng bộ dữ liệu: tìm hiểu, lựa chọn các module của python như BeatifulSoup, Newspaper, Srapy hoặc News API để extract text, title, tag, keyword,... từ link bài báo rồi tự gán nhãn bằng tay (bạo lực - True / không bạo lực - False). Dữ liệu dùng là những thông tin extract ra được.\n",
        "- Độ đa dạng: Lấy từ càng nhiều nguồn của báo tiếng Việt càng tốt. Tham khảo: https://vi.wikipedia.org/wiki/Danh_s%C3%A1ch_b%C3%A1o_%C4%91i%E1%BB%87n_t%E1%BB%AD_ti%E1%BA%BFng_Vi%E1%BB%87t\n",
        "- Số lượng: dự kiến khoảng 1000 mẫu.\n",
        "- Train/dev/test: Dự kiến lần lược 70%/15%/15%\n",
        "- Các thao tác tiền xử lí dữ liệu:\n",
        "\n",
        "    *   News Tokenisation: chia đoạn text dài thành các phần nhỏ hơn, mỗi từ được xem như là một string\n",
        "    *   Stop Word Removal: Lọc các từ không mang thông tin cụ thể như giới từ, từ nối, ... https://xltiengviet.fandom.com/wiki/Danh_s%C3%A1ch_stop_word\n",
        "\n",
        "3. MÔ TẢ ĐẶC TRƯNG: Sau đây là từ khóa, hiện nhóm đang tìm hiểu ạ\n",
        "- Boolean Weighting\n",
        "- Information Gain\n",
        "- Term Frequency Inverse Class Frequency\n",
        "- Class Frequency Thresh holding\n",
        "\n"
      ]
    }
  ]
}